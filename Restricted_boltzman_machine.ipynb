{
 "cells": [
  {
   "cell_type": "markdown",
   "metadata": {},
   "source": [
    "# Restricted Boltzman machine"
   ]
  },
  {
   "cell_type": "code",
   "execution_count": 1,
   "metadata": {},
   "outputs": [],
   "source": [
    "import numpy as np"
   ]
  },
  {
   "cell_type": "markdown",
   "metadata": {},
   "source": [
    "## Data"
   ]
  },
  {
   "cell_type": "code",
   "execution_count": 10,
   "metadata": {},
   "outputs": [
    {
     "data": {
      "text/plain": [
       "array([[[0., 0., 0.],\n",
       "        [0., 0., 0.],\n",
       "        [0., 0., 0.]],\n",
       "\n",
       "       [[1., 0., 0.],\n",
       "        [1., 0., 0.],\n",
       "        [1., 0., 0.]],\n",
       "\n",
       "       [[0., 1., 0.],\n",
       "        [0., 1., 0.],\n",
       "        [0., 1., 0.]],\n",
       "\n",
       "       [[0., 0., 1.],\n",
       "        [0., 0., 1.],\n",
       "        [0., 0., 1.]],\n",
       "\n",
       "       [[1., 1., 0.],\n",
       "        [1., 1., 0.],\n",
       "        [1., 1., 0.]],\n",
       "\n",
       "       [[0., 1., 1.],\n",
       "        [0., 1., 1.],\n",
       "        [0., 1., 1.]],\n",
       "\n",
       "       [[1., 0., 1.],\n",
       "        [1., 0., 1.],\n",
       "        [1., 0., 1.]],\n",
       "\n",
       "       [[1., 1., 1.],\n",
       "        [1., 1., 1.],\n",
       "        [1., 1., 1.]],\n",
       "\n",
       "       [[1., 1., 1.],\n",
       "        [0., 0., 0.],\n",
       "        [0., 0., 0.]],\n",
       "\n",
       "       [[0., 0., 0.],\n",
       "        [1., 1., 1.],\n",
       "        [0., 0., 0.]],\n",
       "\n",
       "       [[0., 0., 0.],\n",
       "        [0., 0., 0.],\n",
       "        [1., 1., 1.]],\n",
       "\n",
       "       [[1., 1., 1.],\n",
       "        [1., 1., 1.],\n",
       "        [0., 0., 0.]],\n",
       "\n",
       "       [[0., 0., 0.],\n",
       "        [1., 1., 1.],\n",
       "        [1., 1., 1.]],\n",
       "\n",
       "       [[1., 1., 1.],\n",
       "        [1., 1., 1.],\n",
       "        [0., 0., 0.]]])"
      ]
     },
     "execution_count": 10,
     "metadata": {},
     "output_type": "execute_result"
    }
   ],
   "source": [
    "patterns = np.zeros((14,3,3))\n",
    "\n",
    "patterns[1] = np.array([[1,0,0],[1,0,0],[1,0,0]])\n",
    "patterns[2] = np.array([[0,1,0],[0,1,0],[0,1,0]])\n",
    "patterns[3] = np.array([[0,0,1],[0,0,1],[0,0,1]])\n",
    "patterns[4] = np.array([[1,1,0],[1,1,0],[1,1,0]])\n",
    "patterns[5] = np.array([[0,1,1],[0,1,1],[0,1,1]])\n",
    "patterns[6] = np.array([[1,0,1],[1,0,1],[1,0,1]])\n",
    "patterns[7] = np.array([[1,1,1],[1,1,1],[1,1,1]])\n",
    "patterns[8] = np.array([[1,1,1],[0,0,0],[0,0,0]])\n",
    "patterns[9] = np.array([[0,0,0],[1,1,1],[0,0,0]])\n",
    "patterns[10] = np.array([[0,0,0],[0,0,0],[1,1,1]])\n",
    "patterns[11] = np.array([[1,1,1],[1,1,1],[0,0,0]])\n",
    "patterns[12] = np.array([[0,0,0],[1,1,1],[1,1,1]])\n",
    "patterns[13] = np.array([[1,1,1],[1,1,1],[0,0,0]])\n",
    "\n",
    "patterns"
   ]
  },
  {
   "cell_type": "code",
   "execution_count": null,
   "metadata": {},
   "outputs": [],
   "source": []
  }
 ],
 "metadata": {
  "kernelspec": {
   "display_name": "Python 3",
   "language": "python",
   "name": "python3"
  },
  "language_info": {
   "codemirror_mode": {
    "name": "ipython",
    "version": 3
   },
   "file_extension": ".py",
   "mimetype": "text/x-python",
   "name": "python",
   "nbconvert_exporter": "python",
   "pygments_lexer": "ipython3",
   "version": "3.8.5"
  }
 },
 "nbformat": 4,
 "nbformat_minor": 4
}
