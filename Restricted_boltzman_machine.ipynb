{
 "cells": [
  {
   "cell_type": "markdown",
   "metadata": {},
   "source": [
    "# Restricted Boltzman machine"
   ]
  },
  {
   "cell_type": "code",
   "execution_count": 2,
   "metadata": {},
   "outputs": [],
   "source": [
    "import numpy as np\n",
    "import matplotlib.pyplot as plt"
   ]
  },
  {
   "cell_type": "code",
   "execution_count": 3,
   "metadata": {},
   "outputs": [],
   "source": [
    "from tqdm import tqdm"
   ]
  },
  {
   "cell_type": "markdown",
   "metadata": {},
   "source": [
    "## Data"
   ]
  },
  {
   "cell_type": "code",
   "execution_count": 4,
   "metadata": {},
   "outputs": [],
   "source": [
    "patterns = np.zeros((14,3,3))\n",
    "\n",
    "patterns[0] = np.array([[-1,-1,-1],[-1,-1,-1],[-1,-1,-1]])\n",
    "patterns[1] = np.array([[1,-1,-1],[1,-1,-1],[1,-1,-1]])\n",
    "patterns[2] = np.array([[-1,1,-1],[-1,1,-1],[-1,1,-1]])\n",
    "patterns[3] = np.array([[-1,-1,1],[-1,-1,1],[-1,-1,1]])\n",
    "patterns[4] = np.array([[1,1,-1],[1,1,-1],[1,1,-1]])\n",
    "patterns[5] = np.array([[-1,1,1],[-1,1,1],[-1,1,1]])\n",
    "patterns[6] = np.array([[1,-1,1],[1,-1,1],[1,-1,1]])\n",
    "patterns[7] = np.array([[1,1,1],[1,1,1],[1,1,1]])\n",
    "patterns[8] = np.array([[1,1,1],[-1,-1,-1],[-1,-1,-1]])\n",
    "patterns[9] = np.array([[-1,-1,-1],[1,1,1],[-1,-1,-1]])\n",
    "patterns[10] = np.array([[-1,-1,-1],[-1,-1,-1],[1,1,1]])\n",
    "patterns[11] = np.array([[1,1,1],[1,1,1],[-1,-1,-1]])\n",
    "patterns[12] = np.array([[-1,-1,-1],[1,1,1],[1,1,1]])\n",
    "patterns[13] = np.array([[1,1,1],[1,1,1],[-1,-1,-1]])"
   ]
  },
  {
   "cell_type": "code",
   "execution_count": 5,
   "metadata": {},
   "outputs": [],
   "source": [
    "patterns = patterns.reshape(-1,9)"
   ]
  },
  {
   "cell_type": "code",
   "execution_count": 6,
   "metadata": {},
   "outputs": [],
   "source": [
    "class DataLoader:\n",
    "    \n",
    "    def __init__(self,data,po):\n",
    "        self.data = data\n",
    "        self.po = po\n",
    "    \n",
    "    def __iter__(self):\n",
    "        return self\n",
    "\n",
    "    def __next__(self):\n",
    "        index = np.random.choice(range(len(self.data)), self.po, replace=False)\n",
    "        return self.data[index]"
   ]
  },
  {
   "cell_type": "code",
   "execution_count": 7,
   "metadata": {},
   "outputs": [],
   "source": [
    "class RBM:\n",
    "    def __init__(self, nv, nh, beta=1, cd_k=1):   \n",
    "        self.W = 2*np.random.rand(nh,nv) - 0.5\n",
    "        self.teta_v = 2*np.random.rand(nv) - 0.5\n",
    "        self.teta_h = 2*np.random.rand(nh) -0.5\n",
    "        self.cd_k = cd_k \n",
    "        self.nv = nv\n",
    "        self.nh = nh\n",
    "        self.beta = beta\n",
    "    \n",
    "    def _p(self,b):\n",
    "        return 1/(1+np.exp(-self.beta*b))         \n",
    "    \n",
    "    def activate_neuron_h(self,x):\n",
    "        b_h = self.W@x - self.teta_h\n",
    "        p_h= self._p(b_h)\n",
    "        h = np.zeros(self.nh)\n",
    "        for i in range(self.nh):\n",
    "            h[i] = np.random.choice([-1,1],p=[p_h[i],1-p_h[i]])\n",
    "\n",
    "        return h,b_h\n",
    "\n",
    "    def activate_neuron_v(self,h):\n",
    "        b_v = h.T@self.W - self.teta_v\n",
    "        p_v = self._p(b_v)\n",
    "        v = np.zeros(self.nv)\n",
    "        for j in range(self.nv):\n",
    "            v[j] = np.random.choice([-1,1],p=[p_v[j],1-p_v[j]])\n",
    "\n",
    "        return v,b_v\n",
    "    \n",
    "    def forward(self,x):\n",
    "        h,b_0 = self.activate_neuron_h(x)\n",
    "        for t in range(self.cd_k):\n",
    "            v,_ = self.activate_neuron_v(h)\n",
    "            h,b_k = self.activate_neuron_h(v)\n",
    "        \n",
    "        return v,h,b_0,b_k\n",
    "\n",
    "    def __call__(self,x): \n",
    "        return self.forward(x)[0]\n",
    "    "
   ]
  },
  {
   "cell_type": "code",
   "execution_count": 8,
   "metadata": {},
   "outputs": [],
   "source": [
    "N = 9\n",
    "M = 6\n",
    "rbm = RBM(N,M,cd_k=100)\n",
    "po = 5\n",
    "data = DataLoader(patterns,po)\n",
    "data_dkl = DataLoader(patterns,patterns.shape[0])"
   ]
  },
  {
   "cell_type": "code",
   "execution_count": 10,
   "metadata": {},
   "outputs": [
    {
     "name": "stderr",
     "output_type": "stream",
     "text": [
      "100%|██████████| 10/10 [00:23<00:00,  2.39s/it]\n",
      "100%|██████████| 10/10 [00:27<00:00,  2.70s/it]\n",
      "100%|██████████| 10/10 [00:33<00:00,  3.37s/it]\n",
      "100%|██████████| 10/10 [00:43<00:00,  4.33s/it]"
     ]
    },
    {
     "name": "stdout",
     "output_type": "stream",
     "text": [
      "CPU times: user 2min 7s, sys: 1.64 s, total: 2min 9s\n",
      "Wall time: 2min 7s\n"
     ]
    },
    {
     "name": "stderr",
     "output_type": "stream",
     "text": [
      "\n"
     ]
    }
   ],
   "source": [
    "%%time\n",
    "epochs = 5000\n",
    "lr = 0.1\n",
    "average_pb_iter = 250\n",
    "dkl_freq = 100\n",
    "\n",
    "list_dkl = [[] for _ in range(4)]\n",
    "for idx,M in enumerate([2,4,8,16]):\n",
    "    N = 9\n",
    "    rbm = RBM(N,M,cd_k=100)\n",
    "\n",
    "    for epoch in tqdm(range(epochs)):\n",
    "        dW = np.zeros(rbm.W.shape)\n",
    "        dTeta_h = np.zeros(rbm.teta_h.shape)\n",
    "        dTeta_v = np.zeros(rbm.teta_v.shape)\n",
    "\n",
    "        po_patterns = next(data)\n",
    "\n",
    "        for x in po_patterns:\n",
    "            v,h,b_0,b_k = rbm.forward(x)\n",
    "            for m in range(rbm.nh):\n",
    "                for n in range(rbm.nv):\n",
    "                    dW[m,n] = dW[m,n] + lr*(np.tanh(b_0[m])*x[n] - np.tanh(b_k[m]*v[n]))\n",
    "                    dTeta_v[n] = dTeta_v[n] + lr*(x[n]-v[n])\n",
    "                    dTeta_h[m] = dTeta_h[m] + lr*(np.tanh(b_0[m])-np.tanh(b_k[m])*v[n])\n",
    "\n",
    "        rbm.W = rbm.W + dW\n",
    "        rbm.teta_h = rbm.teta_h + dTeta_h\n",
    "        rbm.teta_v = rbm.teta_v + dTeta_v\n",
    "\n",
    "\n",
    "    ## calculate dkl\n",
    "        if (epoch == 0 or epoch%dkl_freq == 0 or epoch == epochs-1):\n",
    "            dkl = 0\n",
    "            patterns_dkl = next(data_dkl)\n",
    "            p_b = np.ones(patterns_dkl.shape[0])\n",
    "\n",
    "            for i in range(average_pb_iter):\n",
    "                x = np.random.choice([-1,1],p=[0.5,0.5],size=(9))\n",
    "                y = rbm(x)\n",
    "\n",
    "                for j,p in enumerate(patterns_dkl):\n",
    "                    if (y==p).all():\n",
    "                        p_b[j] += 1\n",
    "                        break\n",
    "\n",
    "            p_b = p_b/average_pb_iter\n",
    "          \n",
    "            for p in p_b:\n",
    "                dkl += 1/14 * np.log(1/14 / p) \n",
    "\n",
    "            list_dkl[idx].append(dkl)"
   ]
  },
  {
   "cell_type": "code",
   "execution_count": 20,
   "metadata": {},
   "outputs": [
    {
     "data": {
      "text/plain": [
       "<matplotlib.legend.Legend at 0x7f427e52dca0>"
      ]
     },
     "execution_count": 20,
     "metadata": {},
     "output_type": "execute_result"
    },
    {
     "data": {
      "image/png": "[encoded data removed]",
      "text/plain": [
       "<Figure size 432x288 with 1 Axes>"
      ]
     },
     "metadata": {
      "needs_background": "light"
     },
     "output_type": "display_data"
    }
   ],
   "source": [
    "for i,dkl in enumerate(list_dkl):\n",
    "    plt.plot(dkl,label=f\"M : {[2,4,8,16][i]}\")\n",
    "plt.title(\"dkl over iteration\")\n",
    "plt.ylabel(\"dkl\")\n",
    "plt.xlabel(f\"{dkl_freq}-Epochs\")\n",
    "plt.legend(loc=\"upper right\")\n"
   ]
  },
  {
   "cell_type": "code",
   "execution_count": null,
   "metadata": {},
   "outputs": [],
   "source": []
  }
 ],
 "metadata": {
  "kernelspec": {
   "display_name": "Python 3",
   "language": "python",
   "name": "python3"
  },
  "language_info": {
   "codemirror_mode": {
    "name": "ipython",
    "version": 3
   },
   "file_extension": ".py",
   "mimetype": "text/x-python",
   "name": "python",
   "nbconvert_exporter": "python",
   "pygments_lexer": "ipython3",
   "version": "3.8.5"
  }
 },
 "nbformat": 4,
 "nbformat_minor": 4
}
