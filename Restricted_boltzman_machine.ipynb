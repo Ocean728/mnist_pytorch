{
 "cells": [
  {
   "cell_type": "markdown",
   "metadata": {},
   "source": [
    "# Restricted Boltzman machine"
   ]
  },
  {
   "cell_type": "code",
   "execution_count": 4,
   "metadata": {},
   "outputs": [],
   "source": [
    "import numpy as np"
   ]
  },
  {
   "cell_type": "markdown",
   "metadata": {},
   "source": [
    "## Data"
   ]
  },
  {
   "cell_type": "code",
   "execution_count": 58,
   "metadata": {},
   "outputs": [],
   "source": [
    "patterns = np.zeros((14,3,3))\n",
    "\n",
    "patterns[1] = np.array([[1,0,0],[1,0,0],[1,0,0]])\n",
    "patterns[2] = np.array([[0,1,0],[0,1,0],[0,1,0]])\n",
    "patterns[3] = np.array([[0,0,1],[0,0,1],[0,0,1]])\n",
    "patterns[4] = np.array([[1,1,0],[1,1,0],[1,1,0]])\n",
    "patterns[5] = np.array([[0,1,1],[0,1,1],[0,1,1]])\n",
    "patterns[6] = np.array([[1,0,1],[1,0,1],[1,0,1]])\n",
    "patterns[7] = np.array([[1,1,1],[1,1,1],[1,1,1]])\n",
    "patterns[8] = np.array([[1,1,1],[0,0,0],[0,0,0]])\n",
    "patterns[9] = np.array([[0,0,0],[1,1,1],[0,0,0]])\n",
    "patterns[10] = np.array([[0,0,0],[0,0,0],[1,1,1]])\n",
    "patterns[11] = np.array([[1,1,1],[1,1,1],[0,0,0]])\n",
    "patterns[12] = np.array([[0,0,0],[1,1,1],[1,1,1]])\n",
    "patterns[13] = np.array([[1,1,1],[1,1,1],[0,0,0]])"
   ]
  },
  {
   "cell_type": "code",
   "execution_count": 61,
   "metadata": {},
   "outputs": [],
   "source": [
    "patterns = patterns.reshape(-1,9)"
   ]
  },
  {
   "cell_type": "code",
   "execution_count": 33,
   "metadata": {},
   "outputs": [],
   "source": [
    "class DataLoader:\n",
    "    \n",
    "    def __init__(self,data,po):\n",
    "        self.data = data\n",
    "        self.po = po\n",
    "    \n",
    "    def __iter__(self):\n",
    "        return self\n",
    "\n",
    "    def __next__(self):\n",
    "        index = np.random.choice(range(len(self.data)), self.po, replace=False)\n",
    "        return self.data[index]"
   ]
  },
  {
   "cell_type": "code",
   "execution_count": 103,
   "metadata": {},
   "outputs": [],
   "source": [
    "class RBM:\n",
    "    def __init__(self, nv, nh, beta=1, cd_k=1):   \n",
    "        self.W = np.zeros((nh,nv))\n",
    "        self.teta_v = np.zeros(nv)\n",
    "        self.teta_h = np.zeros(nh)\n",
    "        self.cd_k = cd_k \n",
    "        self.nv = nv\n",
    "        self.nh = nh\n",
    "        self.beta = beta\n",
    "    \n",
    "    def _p(self,b):\n",
    "        return 1/(1+np.exp(-self.beta*b))         \n",
    "    \n",
    "    def activate_neuron_h(self,x):\n",
    "        b_h = self.W@x - self.teta_h\n",
    "        p_h= self._p(b_h)\n",
    "        h = np.zeros(self.nh)\n",
    "        for i in range(self.nh):\n",
    "            h[i] = np.random.choice([-1,1],p=[p_h[i],1-p_h[i]])\n",
    "\n",
    "        return h,b_h\n",
    "\n",
    "    def activate_neuron_v(self,x):\n",
    "        b_v = h.T@self.W - self.teta_v\n",
    "        p_v = self._p(b_v)\n",
    "        v = np.zeros(self.nv)\n",
    "        for j in range(self.nh):\n",
    "            v[j] = np.random.choice([-1,1],p=[p_v[i],1-p_v[i]])\n",
    "\n",
    "        return v,b_v\n",
    "    "
   ]
  },
  {
   "cell_type": "code",
   "execution_count": 104,
   "metadata": {},
   "outputs": [],
   "source": [
    "N = 9\n",
    "M = 4\n",
    "rbm = RBM(N,M)\n",
    "po = 5\n",
    "data = DataLoader(patterns,po)"
   ]
  },
  {
   "cell_type": "code",
   "execution_count": 105,
   "metadata": {},
   "outputs": [
    {
     "data": {
      "text/plain": [
       "(4, 9)"
      ]
     },
     "execution_count": 105,
     "metadata": {},
     "output_type": "execute_result"
    }
   ],
   "source": [
    "rbm.W.shape"
   ]
  },
  {
   "cell_type": "code",
   "execution_count": 117,
   "metadata": {},
   "outputs": [
    {
     "name": "stdout",
     "output_type": "stream",
     "text": [
      "CPU times: user 27.5 ms, sys: 6.55 ms, total: 34.1 ms\n",
      "Wall time: 30.9 ms\n"
     ]
    }
   ],
   "source": [
    "%%time\n",
    "epochs = 10\n",
    "lr = 0.1\n",
    "for v in range(epochs):\n",
    "    dW = np.zeros(rbm.W.shape)\n",
    "    dTeta_h = np.zeros(rbm.teta_h.shape)\n",
    "    dTeta_v = np.zeros(rbm.teta_v.shape)\n",
    "    \n",
    "    po_patterns = next(data)\n",
    "\n",
    "    for x in po_patterns:\n",
    "        h,b_0 = activate_neuron_h(rbm,x)\n",
    "        for t in range(rbm.cd_k):\n",
    "            v,_ = rbm.activate_neuron_v(x)\n",
    "            h,b_k = rbm.activate_neuron_h(v)\n",
    "        \n",
    "    \n",
    "    for m in range(rbm.nh):\n",
    "        for n in range(rbm.nv):\n",
    "            dW[m,n] = dW[m,n] + lr*(np.tanh(b_0[m])*x[n] - np.tanh(b_k[m]*v[n]))\n",
    "            dTeta_v[n] = dTeta_v[n] + lr*(x[n]-v[n])\n",
    "            dTeta_h[m] = dTeta_h[m] + lr*(np.tanh(b_0[m])-np.tanh(b_k[m])*v[n])\n",
    "    \n",
    "    rbm.W = rbm.W + dW\n",
    "    rbm.teta_h = rbm.teta_h + dTeta_h\n",
    "    rbm.teta_v = rbm.teta_v + dTeta_v\n"
   ]
  },
  {
   "cell_type": "code",
   "execution_count": null,
   "metadata": {},
   "outputs": [],
   "source": []
  }
 ],
 "metadata": {
  "kernelspec": {
   "display_name": "Python 3",
   "language": "python",
   "name": "python3"
  },
  "language_info": {
   "codemirror_mode": {
    "name": "ipython",
    "version": 3
   },
   "file_extension": ".py",
   "mimetype": "text/x-python",
   "name": "python",
   "nbconvert_exporter": "python",
   "pygments_lexer": "ipython3",
   "version": "3.8.5"
  }
 },
 "nbformat": 4,
 "nbformat_minor": 4
}
