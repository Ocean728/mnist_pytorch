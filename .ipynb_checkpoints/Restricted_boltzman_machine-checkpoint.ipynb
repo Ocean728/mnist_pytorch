{
 "cells": [
  {
   "cell_type": "markdown",
   "metadata": {},
   "source": [
    "# Restricted Boltzman machine"
   ]
  },
  {
   "cell_type": "code",
   "execution_count": 4,
   "metadata": {},
   "outputs": [],
   "source": [
    "import numpy as np"
   ]
  },
  {
   "cell_type": "markdown",
   "metadata": {},
   "source": [
    "## Data"
   ]
  },
  {
   "cell_type": "code",
   "execution_count": 13,
   "metadata": {},
   "outputs": [],
   "source": [
    "patterns = np.zeros((14,3,3))\n",
    "\n",
    "patterns[1] = np.array([[1,0,0],[1,0,0],[1,0,0]])\n",
    "patterns[2] = np.array([[0,1,0],[0,1,0],[0,1,0]])\n",
    "patterns[3] = np.array([[0,0,1],[0,0,1],[0,0,1]])\n",
    "patterns[4] = np.array([[1,1,0],[1,1,0],[1,1,0]])\n",
    "patterns[5] = np.array([[0,1,1],[0,1,1],[0,1,1]])\n",
    "patterns[6] = np.array([[1,0,1],[1,0,1],[1,0,1]])\n",
    "patterns[7] = np.array([[1,1,1],[1,1,1],[1,1,1]])\n",
    "patterns[8] = np.array([[1,1,1],[0,0,0],[0,0,0]])\n",
    "patterns[9] = np.array([[0,0,0],[1,1,1],[0,0,0]])\n",
    "patterns[10] = np.array([[0,0,0],[0,0,0],[1,1,1]])\n",
    "patterns[11] = np.array([[1,1,1],[1,1,1],[0,0,0]])\n",
    "patterns[12] = np.array([[0,0,0],[1,1,1],[1,1,1]])\n",
    "patterns[13] = np.array([[1,1,1],[1,1,1],[0,0,0]])\n",
    "\n",
    "nb_pattern = 14"
   ]
  },
  {
   "cell_type": "code",
   "execution_count": 33,
   "metadata": {},
   "outputs": [],
   "source": [
    "class DataLoader:\n",
    "    \n",
    "    def __init__(self,data,po):\n",
    "        self.data = data\n",
    "        self.po = po\n",
    "    \n",
    "    def __iter__(self):\n",
    "        return self\n",
    "\n",
    "    def __next__(self):\n",
    "        index = np.random.choice(range(len(self.data)), self.po, replace=False)\n",
    "        return self.data[index]"
   ]
  },
  {
   "cell_type": "code",
   "execution_count": 34,
   "metadata": {},
   "outputs": [],
   "source": [
    "class RBM:\n",
    "    def __init__(self, nv, nh, cd_steps=1):   \n",
    "        self.W = np.zeros((nv,nh))\n",
    "        self.teta_v = np.zeros(nv)\n",
    "        self.teta_h = np.zeros(nh)\n",
    "        self.cd_steps = cd_steps \n",
    "            \n",
    "        \n",
    "        "
   ]
  },
  {
   "cell_type": "code",
   "execution_count": 41,
   "metadata": {},
   "outputs": [],
   "source": [
    "nv = 9\n",
    "nh = 4\n",
    "rbm = RBM(nv,nh)\n",
    "po = 5\n",
    "data = DataLoader(patterns,po)"
   ]
  },
  {
   "cell_type": "code",
   "execution_count": 42,
   "metadata": {},
   "outputs": [
    {
     "name": "stdout",
     "output_type": "stream",
     "text": [
      "(5, 3, 3)\n"
     ]
    }
   ],
   "source": [
    "epochs = 1\n",
    "for v in range(epochs):\n",
    "    po_patterns = next(data)\n",
    "    for x in po_patterns\n",
    "        v = x\n",
    "        \n",
    "        \n",
    "        \n",
    "        \n",
    "    \n",
    "    \n",
    "    \n",
    "    \n",
    "    \n",
    "    \n",
    "    "
   ]
  },
  {
   "cell_type": "code",
   "execution_count": null,
   "metadata": {},
   "outputs": [],
   "source": []
  }
 ],
 "metadata": {
  "kernelspec": {
   "display_name": "Python 3",
   "language": "python",
   "name": "python3"
  },
  "language_info": {
   "codemirror_mode": {
    "name": "ipython",
    "version": 3
   },
   "file_extension": ".py",
   "mimetype": "text/x-python",
   "name": "python",
   "nbconvert_exporter": "python",
   "pygments_lexer": "ipython3",
   "version": "3.8.5"
  }
 },
 "nbformat": 4,
 "nbformat_minor": 4
}
