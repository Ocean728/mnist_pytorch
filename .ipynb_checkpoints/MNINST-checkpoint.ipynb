{
 "cells": [
  {
   "cell_type": "markdown",
   "metadata": {},
   "source": [
    " # MNIST with pytorch"
   ]
  },
  {
   "cell_type": "code",
   "execution_count": 1,
   "metadata": {},
   "outputs": [],
   "source": [
    "import torch\n",
    "import numpy\n",
    "import matplotlib.pyplot as plt\n",
    "import torch.nn as nn"
   ]
  },
  {
   "cell_type": "code",
   "execution_count": 2,
   "metadata": {},
   "outputs": [
    {
     "name": "stdout",
     "output_type": "stream",
     "text": [
      "cuda\n"
     ]
    }
   ],
   "source": [
    "if torch.cuda.is_available():\n",
    "    device = \"cuda\"\n",
    "else:\n",
    "    device = \"cpu\"\n",
    "print(device)"
   ]
  },
  {
   "cell_type": "code",
   "execution_count": 3,
   "metadata": {},
   "outputs": [],
   "source": [
    "import torchvision.datasets as datasets\n",
    "import torchvision\n",
    "from torch.utils.data import DataLoader\n",
    "import torch.nn.functional as F\n",
    "import torch.optim as optim"
   ]
  },
  {
   "cell_type": "markdown",
   "metadata": {},
   "source": [
    "## Load the data"
   ]
  },
  {
   "cell_type": "code",
   "execution_count": 4,
   "metadata": {},
   "outputs": [],
   "source": [
    "#batch_size = 8192\n",
    "batch_size = 4096\n",
    "validation_size = 10000"
   ]
  },
  {
   "cell_type": "markdown",
   "metadata": {},
   "source": [
    "I onyl have 2gb of VRAM so i am using a smaller batch_size to fit the data in the VRAM"
   ]
  },
  {
   "cell_type": "code",
   "execution_count": 5,
   "metadata": {},
   "outputs": [],
   "source": [
    "mnist_trainset = datasets.MNIST(root='./data', train=True, download=True,transform=torchvision.transforms.ToTensor())\n",
    "mnist_trainset,mnist_valset = torch.utils.data.random_split(mnist_trainset, [len(mnist_trainset)-10000,10000])\n",
    "mnist_testset = datasets.MNIST(root='./data', train=False, download=True,transform=torchvision.transforms.ToTensor())"
   ]
  },
  {
   "cell_type": "code",
   "execution_count": 6,
   "metadata": {},
   "outputs": [
    {
     "data": {
      "text/plain": [
       "torch.Size([1, 28, 28])"
      ]
     },
     "execution_count": 6,
     "metadata": {},
     "output_type": "execute_result"
    }
   ],
   "source": [
    "mnist_trainset[0][0].shape"
   ]
  },
  {
   "cell_type": "code",
   "execution_count": 7,
   "metadata": {},
   "outputs": [
    {
     "data": {
      "text/plain": [
       "<torch.utils.data.dataset.Subset at 0x7ff8e104c160>"
      ]
     },
     "execution_count": 7,
     "metadata": {},
     "output_type": "execute_result"
    }
   ],
   "source": [
    "mnist_trainset"
   ]
  },
  {
   "cell_type": "code",
   "execution_count": 8,
   "metadata": {
    "scrolled": false
   },
   "outputs": [
    {
     "data": {
      "text/plain": [
       "<matplotlib.image.AxesImage at 0x7ff8cc1aa4f0>"
      ]
     },
     "execution_count": 8,
     "metadata": {},
     "output_type": "execute_result"
    },
    {
     "data": {
      "image/png": "[encoded data removed]",
      "text/plain": [
       "<Figure size 432x288 with 1 Axes>"
      ]
     },
     "metadata": {
      "needs_background": "light"
     },
     "output_type": "display_data"
    }
   ],
   "source": [
    "plt.imshow(mnist_trainset[0][0][0])"
   ]
  },
  {
   "cell_type": "code",
   "execution_count": 9,
   "metadata": {},
   "outputs": [],
   "source": [
    "train_loader = DataLoader(\n",
    "    mnist_trainset,\n",
    "    num_workers=2,\n",
    "    batch_size=batch_size,\n",
    "    shuffle=True\n",
    ")\n",
    "\n",
    "val_loader = DataLoader(\n",
    "    mnist_valset,\n",
    "    num_workers=2,\n",
    "    batch_size=len(mnist_valset),\n",
    "    shuffle=True\n",
    ")\n",
    "\n",
    "test_loader = DataLoader(\n",
    "    mnist_testset,\n",
    "    num_workers=2,\n",
    "    batch_size=len(mnist_testset),\n",
    "    shuffle=True\n",
    ")"
   ]
  },
  {
   "cell_type": "code",
   "execution_count": 10,
   "metadata": {},
   "outputs": [],
   "source": [
    "batch_idx, (example_data, example_targets) = next(enumerate(train_loader))"
   ]
  },
  {
   "cell_type": "code",
   "execution_count": 11,
   "metadata": {},
   "outputs": [
    {
     "data": {
      "text/plain": [
       "torch.Size([4096, 1, 28, 28])"
      ]
     },
     "execution_count": 11,
     "metadata": {},
     "output_type": "execute_result"
    }
   ],
   "source": [
    "example_data.shape"
   ]
  },
  {
   "cell_type": "markdown",
   "metadata": {},
   "source": [
    "## Define train loop"
   ]
  },
  {
   "cell_type": "code",
   "execution_count": 12,
   "metadata": {},
   "outputs": [],
   "source": [
    "def train(epochs,val_frequency,train_loader,val_loader,model,optimizer,loss_func,losses_train,losses_val):\n",
    "    for epoch in range(epochs):\n",
    "        for batch_idx, (data, targets) in enumerate(train_loader):\n",
    "            optimizer.zero_grad()\n",
    "            data = data.to(device)\n",
    "            targets = targets.to(device)\n",
    "            output = model(data)\n",
    "            loss = loss_func(output, targets)\n",
    "            loss.backward()\n",
    "            optimizer.step()\n",
    "\n",
    "        if (epoch == 0 or epoch%val_frequency == 0 or epoch == epochs-1):\n",
    "\n",
    "            with torch.no_grad():\n",
    "                _,(val_data, val_targets) = next(enumerate(val_loader))\n",
    "                val_data = val_data.to(device)\n",
    "                val_targets = val_targets.to(device)\n",
    "                output_val = model(val_data)\n",
    "                loss_val = loss_func(output_val, val_targets)\n",
    "            losses_train.append(loss.item())\n",
    "            losses_val.append(loss_val.item())\n",
    "            print(f\"Epoch {epoch}, loss_train {loss.item()}, loss_val {loss_val.item()}\")\n"
   ]
  },
  {
   "cell_type": "code",
   "execution_count": 13,
   "metadata": {},
   "outputs": [],
   "source": [
    "def output_model(data,model):\n",
    "    return F.log_softmax(model(data),dim=1).max(dim=1)[1]\n",
    "\n",
    "def score(data,model,target):\n",
    "    return torch.true_divide((output_model(data,model) == target).sum(),len(data))\n",
    "    "
   ]
  },
  {
   "cell_type": "code",
   "execution_count": 68,
   "metadata": {},
   "outputs": [],
   "source": [
    "def plot_mistakes(data,model,target,max_plot=10):\n",
    "    mistakes_index = (output_model(data,model) != target)\n",
    "    print(f\"score: {torch.true_divide((output_model(data,model) == target).sum(),len(data))}\")\n",
    "    fig, ax = plt.subplots(min(10,len(mistakes_index)), 1)\n",
    "    i = 0\n",
    "    for index in mistakes_index:\n",
    "        print(data.shape)\n",
    "        ax[i].imshow(data[index][0])\n",
    "        i = i+1\n",
    "        if i>max_plot:\n",
    "            break"
   ]
  },
  {
   "cell_type": "markdown",
   "metadata": {},
   "source": [
    "## define the neural net"
   ]
  },
  {
   "cell_type": "markdown",
   "metadata": {},
   "source": [
    "### Model 1"
   ]
  },
  {
   "cell_type": "code",
   "execution_count": 69,
   "metadata": {},
   "outputs": [],
   "source": [
    "class Model1(nn.Module):\n",
    "    def __init__(self):\n",
    "        super().__init__()\n",
    "        self.conv1 = nn.Conv2d(1, 20, kernel_size=5, stride=1, padding=1)\n",
    "        self.pool1 = nn.MaxPool2d(kernel_size=2, stride=2,padding=0)\n",
    "        self.linear1 = nn.Linear(13*13*20,100) \n",
    "        self.linear2 = nn.Linear(100,10)\n",
    "\n",
    "    def forward(self, x):\n",
    "        x = self.conv1(x)\n",
    "        x = F.relu(x)\n",
    "        x = self.pool1(x)\n",
    "        x = self.linear1(x.view(-1,13*13*20))\n",
    "        x = self.linear2(x)\n",
    "        return x"
   ]
  },
  {
   "cell_type": "code",
   "execution_count": 14,
   "metadata": {},
   "outputs": [
    {
     "data": {
      "text/plain": [
       "Model1(\n",
       "  (conv1): Conv2d(1, 20, kernel_size=(5, 5), stride=(1, 1), padding=(1, 1))\n",
       "  (pool1): MaxPool2d(kernel_size=2, stride=2, padding=0, dilation=1, ceil_mode=False)\n",
       "  (linear1): Linear(in_features=3380, out_features=100, bias=True)\n",
       "  (linear2): Linear(in_features=100, out_features=10, bias=True)\n",
       ")"
      ]
     },
     "execution_count": 14,
     "metadata": {},
     "output_type": "execute_result"
    }
   ],
   "source": [
    "model = Model1()\n",
    "model.to(device)"
   ]
  },
  {
   "cell_type": "code",
   "execution_count": 15,
   "metadata": {},
   "outputs": [],
   "source": [
    "optimizer = optim.SGD(model.parameters(), lr=1e-3,momentum=0.9)\n",
    "loss_func = nn.CrossEntropyLoss() "
   ]
  },
  {
   "cell_type": "markdown",
   "metadata": {},
   "source": [
    "We are using CrossEntropyLoss() it did the softmax so ne need to add it in the model"
   ]
  },
  {
   "cell_type": "markdown",
   "metadata": {},
   "source": [
    "I will use 120 epoch because my batch size is 2 times smaller that the one in the exercice, otherwise the batch won't fit un my VRAM which is only 2Go"
   ]
  },
  {
   "cell_type": "code",
   "execution_count": 16,
   "metadata": {},
   "outputs": [],
   "source": [
    "losses_train = []\n",
    "losses_val = []"
   ]
  },
  {
   "cell_type": "code",
   "execution_count": 17,
   "metadata": {
    "scrolled": true
   },
   "outputs": [
    {
     "name": "stdout",
     "output_type": "stream",
     "text": [
      "Epoch 0, loss_train 2.2691595554351807, loss_val 2.2674167156219482\n",
      "Epoch 10, loss_train 1.3436640501022339, loss_val 1.328672170639038\n",
      "Epoch 20, loss_train 0.6081324219703674, loss_val 0.6154042482376099\n",
      "Epoch 30, loss_train 0.5047644972801208, loss_val 0.4639035761356354\n",
      "Epoch 40, loss_train 0.37976938486099243, loss_val 0.4054267108440399\n",
      "Epoch 50, loss_train 0.34809350967407227, loss_val 0.3745129406452179\n",
      "Epoch 60, loss_train 0.338273823261261, loss_val 0.35500815510749817\n",
      "Epoch 70, loss_train 0.30712348222732544, loss_val 0.34085866808891296\n",
      "Epoch 80, loss_train 0.3481324315071106, loss_val 0.3301728665828705\n",
      "Epoch 90, loss_train 0.34983623027801514, loss_val 0.321382611989975\n",
      "Epoch 100, loss_train 0.2921951115131378, loss_val 0.3139934539794922\n",
      "Epoch 110, loss_train 0.3344561457633972, loss_val 0.3075354993343353\n",
      "Epoch 119, loss_train 0.29159122705459595, loss_val 0.301897794008255\n",
      "CPU times: user 3min 47s, sys: 7.7 s, total: 3min 55s\n",
      "Wall time: 5min\n"
     ]
    }
   ],
   "source": [
    "%%time\n",
    "epochs = 120\n",
    "val_frequency = 10\n",
    "model.to(device)\n",
    "train(epochs,val_frequency,train_loader,val_loader,model,optimizer,loss_func,losses_train,losses_val)"
   ]
  },
  {
   "cell_type": "code",
   "execution_count": 19,
   "metadata": {},
   "outputs": [
    {
     "name": "stdout",
     "output_type": "stream",
     "text": [
      "Total epoch : 120\n"
     ]
    },
    {
     "data": {
      "image/png": "[encoded data removed]",
      "text/plain": [
       "<Figure size 432x288 with 1 Axes>"
      ]
     },
     "metadata": {
      "needs_background": "light"
     },
     "output_type": "display_data"
    }
   ],
   "source": [
    "plt.plot(losses_train,color=\"blue\",label=\"train\")\n",
    "plt.plot(losses_val,color=\"orange\",label=\"val\")  \n",
    "plt.title(\"Error evolution throw training\")\n",
    "plt.ylabel(\"Loss function\")\n",
    "plt.xlabel(f\"{val_frequency}-Epochs\")\n",
    "plt.legend(loc=\"upper right\")\n",
    "\n",
    "print(f\"Total epoch : {(len(losses_train)-1)*val_frequency}\")"
   ]
  },
  {
   "cell_type": "code",
   "execution_count": 21,
   "metadata": {},
   "outputs": [],
   "source": [
    "_, (test_data, test_targets) = next(enumerate(test_loader))"
   ]
  },
  {
   "cell_type": "code",
   "execution_count": 22,
   "metadata": {},
   "outputs": [
    {
     "data": {
      "text/plain": [
       "tensor(0.9167)"
      ]
     },
     "execution_count": 22,
     "metadata": {},
     "output_type": "execute_result"
    }
   ],
   "source": [
    "model.to(\"cpu\")\n",
    "score(test_data,model,test_targets)"
   ]
  },
  {
   "cell_type": "code",
   "execution_count": null,
   "metadata": {},
   "outputs": [],
   "source": [
    "'''\n",
    "torch.save({\n",
    "            'epoch': epoch,\n",
    "            'model_state_dict': model.state_dict(),\n",
    "            'losses_train': losses_train,\n",
    "            'losses_val': losses_val\n",
    "            }, \"model/model2.m\")\n",
    "'''"
   ]
  },
  {
   "cell_type": "code",
   "execution_count": 32,
   "metadata": {},
   "outputs": [],
   "source": [
    "torch.cuda.empty_cache()"
   ]
  },
  {
   "cell_type": "markdown",
   "metadata": {},
   "source": [
    "### Model2"
   ]
  },
  {
   "cell_type": "code",
   "execution_count": 31,
   "metadata": {},
   "outputs": [],
   "source": [
    "#batch_size_2 = 8192\n",
    "batch_size_2 = 2048"
   ]
  },
  {
   "cell_type": "markdown",
   "metadata": {},
   "source": [
    "I onyl have 2gb of VRAM so i am using a smaller batch_size to fit the data in the VRAM"
   ]
  },
  {
   "cell_type": "code",
   "execution_count": 32,
   "metadata": {},
   "outputs": [],
   "source": [
    "train_loader2 = DataLoader(\n",
    "    mnist_trainset,\n",
    "    num_workers=2,\n",
    "    batch_size=batch_size_2,\n",
    "    shuffle=True\n",
    ")\n",
    "\n",
    "val_loader2 = DataLoader(\n",
    "    mnist_valset,\n",
    "    num_workers=2,\n",
    "    batch_size=int(len(mnist_valset)/2),\n",
    "    shuffle=True\n",
    ")"
   ]
  },
  {
   "cell_type": "code",
   "execution_count": 33,
   "metadata": {},
   "outputs": [],
   "source": [
    "class Model2(nn.Module):\n",
    "    def __init__(self):\n",
    "        super().__init__()\n",
    "        self.conv1 = nn.Conv2d(1, 20, kernel_size=3, stride=1, padding=1)\n",
    "        self.conv2 = nn.Conv2d(20, 30, kernel_size=3, stride=1, padding=1)\n",
    "        self.conv3 = nn.Conv2d(30, 50, kernel_size=3, stride=1, padding=1)\n",
    "\n",
    "        self.conv1_bn = nn.BatchNorm2d(20)\n",
    "        self.conv2_bn = nn.BatchNorm2d(30)\n",
    "        self.conv3_bn = nn.BatchNorm2d(50)\n",
    "\n",
    "        self.pool1 = nn.MaxPool2d(kernel_size=2, stride=2,padding=0)\n",
    "        self.pool2 = nn.MaxPool2d(kernel_size=2, stride=2,padding=0)\n",
    "\n",
    "        self.linear1 = nn.Linear(50*7*7,10) \n",
    "\n",
    "    def forward(self, x):\n",
    "        x = self.conv1(x)\n",
    "        x = F.relu(self.conv1_bn(x))\n",
    "        x = self.pool1(x)\n",
    "        \n",
    "        \n",
    "        x = self.conv2(x)\n",
    "        x = F.relu(self.conv2_bn(x))\n",
    "        x = self.pool2(x)\n",
    "        \n",
    "        x = self.conv3(x)\n",
    "        x = F.relu(self.conv3_bn(x))\n",
    "        \n",
    "        x = self.linear1(x.view(x.shape[0],50*7*7))\n",
    "        return x"
   ]
  },
  {
   "cell_type": "code",
   "execution_count": 34,
   "metadata": {
    "scrolled": true
   },
   "outputs": [
    {
     "data": {
      "text/plain": [
       "Model2(\n",
       "  (conv1): Conv2d(1, 20, kernel_size=(3, 3), stride=(1, 1), padding=(1, 1))\n",
       "  (conv2): Conv2d(20, 30, kernel_size=(3, 3), stride=(1, 1), padding=(1, 1))\n",
       "  (conv3): Conv2d(30, 50, kernel_size=(3, 3), stride=(1, 1), padding=(1, 1))\n",
       "  (conv1_bn): BatchNorm2d(20, eps=1e-05, momentum=0.1, affine=True, track_running_stats=True)\n",
       "  (conv2_bn): BatchNorm2d(30, eps=1e-05, momentum=0.1, affine=True, track_running_stats=True)\n",
       "  (conv3_bn): BatchNorm2d(50, eps=1e-05, momentum=0.1, affine=True, track_running_stats=True)\n",
       "  (pool1): MaxPool2d(kernel_size=2, stride=2, padding=0, dilation=1, ceil_mode=False)\n",
       "  (pool2): MaxPool2d(kernel_size=2, stride=2, padding=0, dilation=1, ceil_mode=False)\n",
       "  (linear1): Linear(in_features=2450, out_features=10, bias=True)\n",
       ")"
      ]
     },
     "execution_count": 34,
     "metadata": {},
     "output_type": "execute_result"
    }
   ],
   "source": [
    "model2 = Model2()\n",
    "model2.to(device)"
   ]
  },
  {
   "cell_type": "code",
   "execution_count": 35,
   "metadata": {},
   "outputs": [],
   "source": [
    "optimizer2 = optim.SGD(model2.parameters(), lr=1e-2,momentum=0.9)\n",
    "loss_func2 = nn.CrossEntropyLoss() "
   ]
  },
  {
   "cell_type": "code",
   "execution_count": 36,
   "metadata": {},
   "outputs": [],
   "source": [
    "losses_train2 = []\n",
    "losses_val2 = []"
   ]
  },
  {
   "cell_type": "markdown",
   "metadata": {},
   "source": [
    "Here I am using 70 epochs because I take a realy small batch_size to fit into my video ram"
   ]
  },
  {
   "cell_type": "code",
   "execution_count": 37,
   "metadata": {},
   "outputs": [
    {
     "name": "stdout",
     "output_type": "stream",
     "text": [
      "Epoch 0, loss_train 0.2174142450094223, loss_val 0.23317356407642365\n",
      "Epoch 7, loss_train 0.05445920675992966, loss_val 0.0657329112291336\n",
      "Epoch 14, loss_train 0.028353778645396233, loss_val 0.054144322872161865\n",
      "Epoch 21, loss_train 0.03229314088821411, loss_val 0.04364534467458725\n",
      "Epoch 28, loss_train 0.01751512475311756, loss_val 0.04131817817687988\n",
      "Epoch 35, loss_train 0.020846419036388397, loss_val 0.031710270792245865\n",
      "Epoch 42, loss_train 0.012679912149906158, loss_val 0.03791852667927742\n",
      "Epoch 49, loss_train 0.022166157141327858, loss_val 0.03608002886176109\n",
      "Epoch 56, loss_train 0.01558133214712143, loss_val 0.03687400370836258\n",
      "Epoch 63, loss_train 0.010325254872441292, loss_val 0.030154503881931305\n",
      "Epoch 69, loss_train 0.009839707054197788, loss_val 0.030571063980460167\n",
      "CPU times: user 6min 8s, sys: 5.81 s, total: 6min 14s\n",
      "Wall time: 6min 27s\n"
     ]
    }
   ],
   "source": [
    "%%time\n",
    "epochs = 70\n",
    "val_frequency = 7\n",
    "model2.to(device)\n",
    "train(epochs,val_frequency,train_loader2,val_loader2,model2,optimizer2,loss_func2,losses_train2,losses_val2)             "
   ]
  },
  {
   "cell_type": "code",
   "execution_count": 42,
   "metadata": {},
   "outputs": [
    {
     "name": "stdout",
     "output_type": "stream",
     "text": [
      "Total epoch : 70\n"
     ]
    },
    {
     "data": {
      "image/png": "[encoded data removed]",
      "text/plain": [
       "<Figure size 432x288 with 1 Axes>"
      ]
     },
     "metadata": {
      "needs_background": "light"
     },
     "output_type": "display_data"
    }
   ],
   "source": [
    "plt.plot(losses_train2,color=\"blue\",label=\"train\")\n",
    "plt.plot(losses_val2,color=\"orange\",label=\"val\")  \n",
    "plt.title(\"Error evolution throw training\")\n",
    "plt.ylabel(\"Loss function\")\n",
    "plt.xlabel(f\"{val_frequency}-Epochs\")\n",
    "plt.legend(loc=\"upper right\")\n",
    "\n",
    "print(f\"Total epoch : {(len(losses_train2)-1)*val_frequency}\")"
   ]
  },
  {
   "cell_type": "code",
   "execution_count": 39,
   "metadata": {},
   "outputs": [
    {
     "data": {
      "text/plain": [
       "tensor(0.9908)"
      ]
     },
     "execution_count": 39,
     "metadata": {},
     "output_type": "execute_result"
    }
   ],
   "source": [
    "_, (test_data, test_targets) = next(enumerate(test_loader))\n",
    "model2.to(\"cpu\")\n",
    "score(test_data,model2,test_targets)"
   ]
  },
  {
   "cell_type": "code",
   "execution_count": 94,
   "metadata": {},
   "outputs": [],
   "source": [
    "def plot_mistakes(data,model,target,max_plot=10):\n",
    "    mistakes_index = (output_model(data,model) != target)\n",
    "    print(f\"score: {torch.true_divide((output_model(data,model) == target).sum(),len(data))}\")\n",
    "    fig, ax = plt.subplots(1 , min(10,len(mistakes_index)))\n",
    "    i = 0\n",
    "    data_false = data[mistakes_index]\n",
    "    for img in data_false:\n",
    "        ax[i].imshow(img[0])\n",
    "        i = i+1\n",
    "        if i>=max_plot:\n",
    "            break"
   ]
  },
  {
   "cell_type": "code",
   "execution_count": 95,
   "metadata": {},
   "outputs": [
    {
     "name": "stdout",
     "output_type": "stream",
     "text": [
      "score: 0.9908000230789185\n"
     ]
    },
    {
     "data": {
      "image/png": "[encoded data removed]",
      "text/plain": [
       "<Figure size 432x288 with 10 Axes>"
      ]
     },
     "metadata": {
      "needs_background": "light"
     },
     "output_type": "display_data"
    }
   ],
   "source": [
    "plot_mistakes(test_data,model2,test_targets)"
   ]
  },
  {
   "cell_type": "code",
   "execution_count": null,
   "metadata": {},
   "outputs": [],
   "source": [
    "torch.save({\n",
    "            'epoch': epoch,\n",
    "            'model_state_dict': model2.state_dict(),\n",
    "            'losses_train': losses_train2,\n",
    "            'losses_val': losses_val2\n",
    "            }, \"model/model3.m\")"
   ]
  }
 ],
 "metadata": {
  "kernelspec": {
   "display_name": "Python 3",
   "language": "python",
   "name": "python3"
  },
  "language_info": {
   "codemirror_mode": {
    "name": "ipython",
    "version": 3
   },
   "file_extension": ".py",
   "mimetype": "text/x-python",
   "name": "python",
   "nbconvert_exporter": "python",
   "pygments_lexer": "ipython3",
   "version": "3.8.5"
  }
 },
 "nbformat": 4,
 "nbformat_minor": 4
}
