{
 "cells": [
  {
   "cell_type": "markdown",
   "metadata": {},
   "source": [
    " # MNIST with pytorch"
   ]
  },
  {
   "cell_type": "code",
   "execution_count": 1,
   "metadata": {},
   "outputs": [],
   "source": [
    "import torch\n",
    "import numpy\n",
    "import matplotlib.pyplot as plt\n",
    "import torch.nn as nn"
   ]
  },
  {
   "cell_type": "code",
   "execution_count": 2,
   "metadata": {},
   "outputs": [
    {
     "name": "stdout",
     "output_type": "stream",
     "text": [
      "cuda\n"
     ]
    }
   ],
   "source": [
    "if torch.cuda.is_available():\n",
    "    device = \"cuda\"\n",
    "else:\n",
    "    device = \"cpu\"\n",
    "print(device)"
   ]
  },
  {
   "cell_type": "code",
   "execution_count": 3,
   "metadata": {},
   "outputs": [],
   "source": [
    "import torchvision.datasets as datasets\n",
    "import torchvision\n",
    "from torch.utils.data import DataLoader\n",
    "import torch.nn.functional as F\n",
    "import torch.optim as optim"
   ]
  },
  {
   "cell_type": "markdown",
   "metadata": {},
   "source": [
    "## Load the data"
   ]
  },
  {
   "cell_type": "code",
   "execution_count": 4,
   "metadata": {},
   "outputs": [],
   "source": [
    "#batch_size = 8192\n",
    "batch_size = 4096\n",
    "validation_size = 10000"
   ]
  },
  {
   "cell_type": "markdown",
   "metadata": {},
   "source": [
    "I onyl have 2gb of VRAM so i am using a smaller batch_size to fit the data in the VRAM"
   ]
  },
  {
   "cell_type": "code",
   "execution_count": 5,
   "metadata": {},
   "outputs": [],
   "source": [
    "mnist_trainset = datasets.MNIST(root='./data', train=True, download=True,transform=torchvision.transforms.ToTensor())\n",
    "mnist_trainset,mnist_valset = torch.utils.data.random_split(mnist_trainset, [len(mnist_trainset)-10000,10000])\n",
    "mnist_testset = datasets.MNIST(root='./data', train=False, download=True,transform=torchvision.transforms.ToTensor())"
   ]
  },
  {
   "cell_type": "code",
   "execution_count": 6,
   "metadata": {},
   "outputs": [
    {
     "data": {
      "text/plain": [
       "torch.Size([1, 28, 28])"
      ]
     },
     "execution_count": 6,
     "metadata": {},
     "output_type": "execute_result"
    }
   ],
   "source": [
    "mnist_trainset[0][0].shape"
   ]
  },
  {
   "cell_type": "code",
   "execution_count": 7,
   "metadata": {},
   "outputs": [
    {
     "data": {
      "text/plain": [
       "<torch.utils.data.dataset.Subset at 0x7f845c7c3760>"
      ]
     },
     "execution_count": 7,
     "metadata": {},
     "output_type": "execute_result"
    }
   ],
   "source": [
    "mnist_trainset"
   ]
  },
  {
   "cell_type": "code",
   "execution_count": 8,
   "metadata": {
    "scrolled": false
   },
   "outputs": [
    {
     "data": {
      "text/plain": [
       "<matplotlib.image.AxesImage at 0x7f84411b14c0>"
      ]
     },
     "execution_count": 8,
     "metadata": {},
     "output_type": "execute_result"
    },
    {
     "data": {
      "image/png": "[encoded data removed]",
      "text/plain": [
       "<Figure size 432x288 with 1 Axes>"
      ]
     },
     "metadata": {
      "needs_background": "light"
     },
     "output_type": "display_data"
    }
   ],
   "source": [
    "plt.imshow(mnist_trainset[0][0][0])"
   ]
  },
  {
   "cell_type": "code",
   "execution_count": 9,
   "metadata": {},
   "outputs": [],
   "source": [
    "train_loader = DataLoader(\n",
    "    mnist_trainset,\n",
    "    num_workers=2,\n",
    "    batch_size=batch_size,\n",
    "    shuffle=True\n",
    ")\n",
    "\n",
    "val_loader = DataLoader(\n",
    "    mnist_valset,\n",
    "    num_workers=2,\n",
    "    batch_size=len(mnist_valset),\n",
    "    shuffle=True\n",
    ")\n",
    "\n",
    "test_loader = DataLoader(\n",
    "    mnist_testset,\n",
    "    num_workers=2,\n",
    "    batch_size=len(mnist_testset),\n",
    "    shuffle=True\n",
    ")"
   ]
  },
  {
   "cell_type": "code",
   "execution_count": 10,
   "metadata": {},
   "outputs": [],
   "source": [
    "batch_idx, (example_data, example_targets) = next(enumerate(train_loader))"
   ]
  },
  {
   "cell_type": "code",
   "execution_count": 11,
   "metadata": {},
   "outputs": [
    {
     "data": {
      "text/plain": [
       "torch.Size([4096, 1, 28, 28])"
      ]
     },
     "execution_count": 11,
     "metadata": {},
     "output_type": "execute_result"
    }
   ],
   "source": [
    "example_data.shape"
   ]
  },
  {
   "cell_type": "markdown",
   "metadata": {},
   "source": [
    "## define the neural net"
   ]
  },
  {
   "cell_type": "markdown",
   "metadata": {},
   "source": [
    "### Model 1"
   ]
  },
  {
   "cell_type": "code",
   "execution_count": 12,
   "metadata": {},
   "outputs": [],
   "source": [
    "class Model1(nn.Module):\n",
    "    def __init__(self):\n",
    "        super().__init__()\n",
    "        self.conv1 = nn.Conv2d(1, 20, kernel_size=5, stride=1, padding=1)\n",
    "        self.pool1 = nn.MaxPool2d(kernel_size=2, stride=2,padding=0)\n",
    "        self.linear1 = nn.Linear(13*13*20,100) \n",
    "        self.linear2 = nn.Linear(100,10)\n",
    "\n",
    "    def forward(self, x):\n",
    "        x = self.conv1(x)\n",
    "        x = F.relu(x)\n",
    "        x = self.pool1(x)\n",
    "        x = self.linear1(x.view(-1,13*13*20))\n",
    "        x = self.linear2(x)\n",
    "        return x"
   ]
  },
  {
   "cell_type": "code",
   "execution_count": 13,
   "metadata": {},
   "outputs": [
    {
     "data": {
      "text/plain": [
       "Model1(\n",
       "  (conv1): Conv2d(1, 20, kernel_size=(5, 5), stride=(1, 1), padding=(1, 1))\n",
       "  (pool1): MaxPool2d(kernel_size=2, stride=2, padding=0, dilation=1, ceil_mode=False)\n",
       "  (linear1): Linear(in_features=3380, out_features=100, bias=True)\n",
       "  (linear2): Linear(in_features=100, out_features=10, bias=True)\n",
       ")"
      ]
     },
     "execution_count": 13,
     "metadata": {},
     "output_type": "execute_result"
    }
   ],
   "source": [
    "model = Model1()\n",
    "model.to(device)"
   ]
  },
  {
   "cell_type": "code",
   "execution_count": 14,
   "metadata": {},
   "outputs": [],
   "source": [
    "optimizer = optim.SGD(model.parameters(), lr=1e-3,momentum=0.9)\n",
    "loss_func = nn.CrossEntropyLoss() \n",
    "val_frequency = 10"
   ]
  },
  {
   "cell_type": "markdown",
   "metadata": {},
   "source": [
    "We are using CrossEntropyLoss() it did the softmax so ne need to add it in the model"
   ]
  },
  {
   "cell_type": "markdown",
   "metadata": {},
   "source": [
    "I will use 120 epoch because my batch size is 2 times smaller that the one in the exercice, otherwise the batch won't fit un my VRAM which is only 2Go"
   ]
  },
  {
   "cell_type": "code",
   "execution_count": 15,
   "metadata": {},
   "outputs": [],
   "source": [
    "losses_train = []\n",
    "losses_val = []"
   ]
  },
  {
   "cell_type": "code",
   "execution_count": 16,
   "metadata": {
    "scrolled": true
   },
   "outputs": [
    {
     "name": "stdout",
     "output_type": "stream",
     "text": [
      "Epoch 0, loss_train 2.2844347953796387, loss_val 2.280644655227661\n",
      "Epoch 10, loss_train 1.5845400094985962, loss_val 1.582183837890625\n",
      "Epoch 20, loss_train 0.6976903080940247, loss_val 0.683057963848114\n",
      "Epoch 30, loss_train 0.4703977704048157, loss_val 0.4782635271549225\n",
      "Epoch 40, loss_train 0.4183676838874817, loss_val 0.40709230303764343\n",
      "Epoch 50, loss_train 0.4045187830924988, loss_val 0.3713882863521576\n",
      "Epoch 60, loss_train 0.336953729391098, loss_val 0.34940701723098755\n",
      "Epoch 70, loss_train 0.2860197126865387, loss_val 0.3337872326374054\n",
      "Epoch 80, loss_train 0.3191615343093872, loss_val 0.3213346302509308\n",
      "Epoch 90, loss_train 0.32273268699645996, loss_val 0.31113746762275696\n",
      "Epoch 100, loss_train 0.32937541604042053, loss_val 0.30193209648132324\n",
      "Epoch 110, loss_train 0.26896950602531433, loss_val 0.29372259974479675\n",
      "Epoch 119, loss_train 0.3048218786716461, loss_val 0.2867904007434845\n",
      "CPU times: user 3min 49s, sys: 7.46 s, total: 3min 57s\n",
      "Wall time: 5min 2s\n"
     ]
    }
   ],
   "source": [
    "%%time\n",
    "epochs = 120\n",
    "model.to(device)\n",
    "for epoch in range(epochs):\n",
    "    for batch_idx, (data, targets) in enumerate(train_loader):\n",
    "        optimizer.zero_grad()\n",
    "        data = data.to(device)\n",
    "        targets = targets.to(device)\n",
    "        output = model(data)\n",
    "        loss = loss_func(output, targets)\n",
    "        loss.backward()\n",
    "        optimizer.step()\n",
    "\n",
    "    if (epoch == 0 or epoch%val_frequency == 0 or epoch == epochs-1):\n",
    "\n",
    "        with torch.no_grad():\n",
    "            _,(val_data, val_targets) = next(enumerate(val_loader))\n",
    "            val_data = val_data.to(device)\n",
    "            val_targets = val_targets.to(device)\n",
    "            output_val = model(val_data)\n",
    "            loss_val = loss_func(output_val, val_targets)\n",
    "        losses_train.append(loss.item())\n",
    "        losses_val.append(loss_val.item())\n",
    "        print(f\"Epoch {epoch}, loss_train {loss.item()}, loss_val {loss_val.item()}\")\n",
    "              "
   ]
  },
  {
   "cell_type": "code",
   "execution_count": 26,
   "metadata": {},
   "outputs": [
    {
     "name": "stdout",
     "output_type": "stream",
     "text": [
      "Total epoch : 120\n"
     ]
    },
    {
     "data": {
      "image/png": "[encoded data removed]",
      "text/plain": [
       "<Figure size 432x288 with 1 Axes>"
      ]
     },
     "metadata": {
      "needs_background": "light"
     },
     "output_type": "display_data"
    }
   ],
   "source": [
    "plt.plot(losses_train,color=\"blue\",label=\"train\")\n",
    "plt.plot(losses_val,color=\"orange\",label=\"loss\")  \n",
    "plt.title(\"Error evolution throw training\")\n",
    "plt.ylabel(\"Loss function\")\n",
    "plt.xlabel(f\"{val_frequency}-Epochs\")\n",
    "plt.legend(loc=\"upper right\")\n",
    "\n",
    "print(f\"Total epoch : {(len(losses_train)-1)*val_frequency}\")"
   ]
  },
  {
   "cell_type": "code",
   "execution_count": 18,
   "metadata": {},
   "outputs": [],
   "source": [
    "def output_model(data,model):\n",
    "    return F.log_softmax(model(data),dim=1).max(dim=1)[1]\n",
    "\n",
    "def score(data,model,target):\n",
    "    return torch.true_divide((output_model(data,model) == target).sum(),len(data))\n",
    "    "
   ]
  },
  {
   "cell_type": "code",
   "execution_count": 19,
   "metadata": {},
   "outputs": [],
   "source": [
    "_, (test_data, test_targets) = next(enumerate(test_loader))"
   ]
  },
  {
   "cell_type": "code",
   "execution_count": 20,
   "metadata": {},
   "outputs": [
    {
     "data": {
      "text/plain": [
       "tensor(0.9236)"
      ]
     },
     "execution_count": 20,
     "metadata": {},
     "output_type": "execute_result"
    }
   ],
   "source": [
    "model.to(\"cpu\")\n",
    "score(test_data,model,test_targets)"
   ]
  },
  {
   "cell_type": "code",
   "execution_count": 21,
   "metadata": {},
   "outputs": [
    {
     "data": {
      "text/plain": [
       "'\\ntorch.save({\\n            \\'epoch\\': epoch,\\n            \\'model_state_dict\\': model.state_dict(),\\n            \\'losses_train\\': losses_train,\\n            \\'losses_val\\': losses_val\\n            }, \"model/model2.m\")\\n'"
      ]
     },
     "execution_count": 21,
     "metadata": {},
     "output_type": "execute_result"
    }
   ],
   "source": [
    "'''\n",
    "torch.save({\n",
    "            'epoch': epoch,\n",
    "            'model_state_dict': model.state_dict(),\n",
    "            'losses_train': losses_train,\n",
    "            'losses_val': losses_val\n",
    "            }, \"model/model2.m\")\n",
    "'''"
   ]
  },
  {
   "cell_type": "code",
   "execution_count": 27,
   "metadata": {},
   "outputs": [],
   "source": [
    "torch.cuda.empty_cache()"
   ]
  },
  {
   "cell_type": "markdown",
   "metadata": {},
   "source": [
    "### Model2"
   ]
  },
  {
   "cell_type": "code",
   "execution_count": 49,
   "metadata": {},
   "outputs": [],
   "source": [
    "#batch_size_2 = 8192\n",
    "batch_size_2 = 2048"
   ]
  },
  {
   "cell_type": "markdown",
   "metadata": {},
   "source": [
    "I onyl have 2gb of VRAM so i am using a smaller batch_size to fit the data in the VRAM"
   ]
  },
  {
   "cell_type": "code",
   "execution_count": 50,
   "metadata": {},
   "outputs": [],
   "source": [
    "train_loader = DataLoader(\n",
    "    mnist_trainset,\n",
    "    num_workers=2,\n",
    "    batch_size=batch_size_2,\n",
    "    shuffle=True\n",
    ")"
   ]
  },
  {
   "cell_type": "code",
   "execution_count": 51,
   "metadata": {},
   "outputs": [],
   "source": [
    "class Model2(nn.Module):\n",
    "    def __init__(self):\n",
    "        super().__init__()\n",
    "        self.conv1 = nn.Conv2d(1, 20, kernel_size=3, stride=1, padding=1)\n",
    "        self.conv2 = nn.Conv2d(20, 30, kernel_size=3, stride=1, padding=1)\n",
    "        self.conv3 = nn.Conv2d(30, 50, kernel_size=3, stride=1, padding=1)\n",
    "\n",
    "        self.conv1_bn = nn.BatchNorm2d(20)\n",
    "        self.conv2_bn = nn.BatchNorm2d(30)\n",
    "        self.conv3_bn = nn.BatchNorm2d(50)\n",
    "\n",
    "        self.pool1 = nn.MaxPool2d(kernel_size=2, stride=2,padding=0)\n",
    "        self.pool2 = nn.MaxPool2d(kernel_size=2, stride=2,padding=0)\n",
    "\n",
    "        self.linear1 = nn.Linear(50*7*7,10) \n",
    "\n",
    "    def forward(self, x):\n",
    "        x = self.conv1(x)\n",
    "        x = F.relu(self.conv1_bn(x))\n",
    "        x = self.pool1(x)\n",
    "        \n",
    "        \n",
    "        x = self.conv2(x)\n",
    "        x = F.relu(self.conv2_bn(x))\n",
    "        x = self.pool2(x)\n",
    "        \n",
    "        x = self.conv3(x)\n",
    "        x = F.relu(self.conv3_bn(x))\n",
    "        \n",
    "        x = self.linear1(x.view(x.shape[0],50*7*7))\n",
    "        return x"
   ]
  },
  {
   "cell_type": "code",
   "execution_count": 58,
   "metadata": {
    "scrolled": true
   },
   "outputs": [
    {
     "data": {
      "text/plain": [
       "Model2(\n",
       "  (conv1): Conv2d(1, 20, kernel_size=(3, 3), stride=(1, 1), padding=(1, 1))\n",
       "  (conv2): Conv2d(20, 30, kernel_size=(3, 3), stride=(1, 1), padding=(1, 1))\n",
       "  (conv3): Conv2d(30, 50, kernel_size=(3, 3), stride=(1, 1), padding=(1, 1))\n",
       "  (conv1_bn): BatchNorm2d(20, eps=1e-05, momentum=0.1, affine=True, track_running_stats=True)\n",
       "  (conv2_bn): BatchNorm2d(30, eps=1e-05, momentum=0.1, affine=True, track_running_stats=True)\n",
       "  (conv3_bn): BatchNorm2d(50, eps=1e-05, momentum=0.1, affine=True, track_running_stats=True)\n",
       "  (pool1): MaxPool2d(kernel_size=2, stride=2, padding=0, dilation=1, ceil_mode=False)\n",
       "  (pool2): MaxPool2d(kernel_size=2, stride=2, padding=0, dilation=1, ceil_mode=False)\n",
       "  (linear1): Linear(in_features=2450, out_features=10, bias=True)\n",
       ")"
      ]
     },
     "execution_count": 58,
     "metadata": {},
     "output_type": "execute_result"
    }
   ],
   "source": [
    "model2 = Model2()\n",
    "model2.to(device)"
   ]
  },
  {
   "cell_type": "code",
   "execution_count": 61,
   "metadata": {},
   "outputs": [],
   "source": [
    "optimizer2 = optim.SGD(model2.parameters(), lr=1e-2,momentum=0.9)\n",
    "loss_func = nn.CrossEntropyLoss() \n",
    "val_frequency = 1"
   ]
  },
  {
   "cell_type": "code",
   "execution_count": 62,
   "metadata": {},
   "outputs": [],
   "source": [
    "losses_train = []\n",
    "losses_val = []"
   ]
  },
  {
   "cell_type": "markdown",
   "metadata": {},
   "source": [
    "Here I am using 70 epochs because I take a realy small batch_size to fit into my video ram"
   ]
  },
  {
   "cell_type": "code",
   "execution_count": 63,
   "metadata": {},
   "outputs": [
    {
     "name": "stdout",
     "output_type": "stream",
     "text": [
      "Epoch 0, loss_train 4.7638726234436035, loss_val 5.238107204437256\n",
      "Epoch 1, loss_train 23.788637161254883, loss_val 24.198726654052734\n",
      "Epoch 2, loss_train 186.1007843017578, loss_val 214.28187561035156\n",
      "Epoch 3, loss_train 9.511032104492188, loss_val 10.118112564086914\n"
     ]
    },
    {
     "name": "stderr",
     "output_type": "stream",
     "text": [
      "Traceback (most recent call last):\n",
      "  File \"/usr/lib/python3.8/multiprocessing/queues.py\", line 245, in _feed\n",
      "    send_bytes(obj)\n",
      "  File \"/usr/lib/python3.8/multiprocessing/connection.py\", line 200, in send_bytes\n",
      "    self._send_bytes(m[offset:offset + size])\n"
     ]
    },
    {
     "ename": "KeyboardInterrupt",
     "evalue": "",
     "output_type": "error",
     "traceback": [
      "\u001b[0;31m---------------------------------------------------------------------------\u001b[0m",
      "\u001b[0;31mKeyboardInterrupt\u001b[0m                         Traceback (most recent call last)",
      "\u001b[0;32m<timed exec>\u001b[0m in \u001b[0;36m<module>\u001b[0;34m\u001b[0m\n",
      "\u001b[0;31mKeyboardInterrupt\u001b[0m: "
     ]
    },
    {
     "name": "stderr",
     "output_type": "stream",
     "text": [
      "  File \"/usr/lib/python3.8/multiprocessing/connection.py\", line 411, in _send_bytes\n",
      "    self._send(header + buf)\n",
      "  File \"/usr/lib/python3.8/multiprocessing/connection.py\", line 368, in _send\n",
      "    n = write(self._handle, buf)\n",
      "BrokenPipeError: [Errno 32] Broken pipe\n"
     ]
    }
   ],
   "source": [
    "%%time\n",
    "epochs = 30\n",
    "model2.to(device)\n",
    "for epoch in range(epochs):\n",
    "    for batch_idx, (data, targets) in enumerate(train_loader):\n",
    "        optimizer.zero_grad()\n",
    "        data = data.to(device)\n",
    "        targets = targets.to(device)\n",
    "        output = model2(data)\n",
    "        loss = loss_func(output, targets)\n",
    "        loss.backward()\n",
    "        optimizer2.step()\n",
    "\n",
    "    if (epoch == 0 or epoch%val_frequency == 0 or epoch == epochs-1):\n",
    "\n",
    "        with torch.no_grad():\n",
    "            _,(val_data, val_targets) = next(enumerate(val_loader))\n",
    "            val_data = val_data.to(\"cpu\")\n",
    "            val_targets = val_targets.to(\"cpu\")\n",
    "            output_val = model2.to(\"cpu\")(val_data)\n",
    "            loss_val = loss_func(output_val, val_targets)\n",
    "            model2.to(device)\n",
    "        losses_train.append(loss.item())\n",
    "        losses_val.append(loss_val.item())\n",
    "        print(f\"Epoch {epoch}, loss_train {loss.item()}, loss_val {loss_val.item()}\")\n",
    "              "
   ]
  },
  {
   "cell_type": "code",
   "execution_count": 45,
   "metadata": {},
   "outputs": [
    {
     "name": "stdout",
     "output_type": "stream",
     "text": [
      "Total epoch : 80\n"
     ]
    },
    {
     "data": {
      "image/png": "[encoded data removed]",
      "text/plain": [
       "<Figure size 432x288 with 1 Axes>"
      ]
     },
     "metadata": {
      "needs_background": "light"
     },
     "output_type": "display_data"
    }
   ],
   "source": [
    "plt.plot(losses_train,color=\"blue\",label=\"train\")\n",
    "plt.plot(losses_val,color=\"orange\",label=\"loss\")  \n",
    "plt.title(\"Error evolution throw training\")\n",
    "plt.ylabel(\"Loss function\")\n",
    "plt.xlabel(f\"{val_frequency}-Epochs\")\n",
    "plt.legend(loc=\"upper right\")\n",
    "\n",
    "print(f\"Total epoch : {(len(losses_train)-1)*val_frequency}\")"
   ]
  },
  {
   "cell_type": "code",
   "execution_count": 46,
   "metadata": {},
   "outputs": [
    {
     "data": {
      "text/plain": [
       "tensor(0.1028)"
      ]
     },
     "execution_count": 46,
     "metadata": {},
     "output_type": "execute_result"
    }
   ],
   "source": [
    "model2.to(\"cpu\")\n",
    "score(test_data,model2,test_targets)"
   ]
  },
  {
   "cell_type": "code",
   "execution_count": 47,
   "metadata": {},
   "outputs": [],
   "source": [
    "torch.save({\n",
    "            'epoch': epoch,\n",
    "            'model_state_dict': model2.state_dict(),\n",
    "            'losses_train': losses_train,\n",
    "            'losses_val': losses_val\n",
    "            }, \"model/model3.m\")"
   ]
  }
 ],
 "metadata": {
  "kernelspec": {
   "display_name": "Python 3",
   "language": "python",
   "name": "python3"
  },
  "language_info": {
   "codemirror_mode": {
    "name": "ipython",
    "version": 3
   },
   "file_extension": ".py",
   "mimetype": "text/x-python",
   "name": "python",
   "nbconvert_exporter": "python",
   "pygments_lexer": "ipython3",
   "version": "3.8.5"
  }
 },
 "nbformat": 4,
 "nbformat_minor": 4
}
