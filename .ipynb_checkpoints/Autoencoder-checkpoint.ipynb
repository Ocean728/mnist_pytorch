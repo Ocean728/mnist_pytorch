{
 "cells": [
  {
   "cell_type": "markdown",
   "metadata": {},
   "source": [
    " # MNIST with pytorch"
   ]
  },
  {
   "cell_type": "code",
   "execution_count": 3,
   "metadata": {},
   "outputs": [],
   "source": [
    "import torch\n",
    "import numpy\n",
    "import matplotlib.pyplot as plt\n",
    "import torch.nn as nn"
   ]
  },
  {
   "cell_type": "code",
   "execution_count": 4,
   "metadata": {},
   "outputs": [
    {
     "name": "stdout",
     "output_type": "stream",
     "text": [
      "cuda\n"
     ]
    }
   ],
   "source": [
    "if torch.cuda.is_available():\n",
    "    device = \"cuda\"\n",
    "else:\n",
    "    device = \"cpu\"\n",
    "print(device)"
   ]
  },
  {
   "cell_type": "code",
   "execution_count": 5,
   "metadata": {},
   "outputs": [],
   "source": [
    "import torchvision.datasets as datasets\n",
    "import torchvision\n",
    "from torch.utils.data import DataLoader\n",
    "import torch.nn.functional as F\n",
    "import torch.optim as optim"
   ]
  },
  {
   "cell_type": "markdown",
   "metadata": {},
   "source": [
    "## Load the data"
   ]
  },
  {
   "cell_type": "code",
   "execution_count": 6,
   "metadata": {},
   "outputs": [],
   "source": [
    "#batch_size = 8192\n",
    "batch_size = 14745\n",
    "validation_size = 10000"
   ]
  },
  {
   "cell_type": "markdown",
   "metadata": {},
   "source": [
    "I onyl have 2gb of VRAM so i am using a smaller batch_size to fit the data in the VRAM"
   ]
  },
  {
   "cell_type": "code",
   "execution_count": 7,
   "metadata": {},
   "outputs": [],
   "source": [
    "transforms = torchvision.transforms.Compose([\n",
    "    torchvision.transforms.ToTensor(),\n",
    "    torchvision.transforms.Normalize(0, 1)])"
   ]
  },
  {
   "cell_type": "markdown",
   "metadata": {},
   "source": [
    "I will normalize the data so that it means is zero and it variance 1 because i don't find how to fit my data to [0,1]"
   ]
  },
  {
   "cell_type": "code",
   "execution_count": 8,
   "metadata": {},
   "outputs": [],
   "source": [
    "mnist_trainset = datasets.MNIST(root='./data', train=True, download=True,transform=transforms)\n",
    "mnist_trainset,mnist_valset = torch.utils.data.random_split(mnist_trainset, [len(mnist_trainset)-10000,10000])\n",
    "mnist_testset = datasets.MNIST(root='./data', train=False, download=True,transform=transforms)"
   ]
  },
  {
   "cell_type": "code",
   "execution_count": 9,
   "metadata": {},
   "outputs": [
    {
     "data": {
      "text/plain": [
       "torch.Size([1, 28, 28])"
      ]
     },
     "execution_count": 9,
     "metadata": {},
     "output_type": "execute_result"
    }
   ],
   "source": [
    "mnist_trainset[0][0].shape"
   ]
  },
  {
   "cell_type": "code",
   "execution_count": 10,
   "metadata": {},
   "outputs": [
    {
     "data": {
      "text/plain": [
       "<torch.utils.data.dataset.Subset at 0x7fd6458a9f10>"
      ]
     },
     "execution_count": 10,
     "metadata": {},
     "output_type": "execute_result"
    }
   ],
   "source": [
    "mnist_trainset"
   ]
  },
  {
   "cell_type": "code",
   "execution_count": 11,
   "metadata": {
    "scrolled": false
   },
   "outputs": [
    {
     "data": {
      "text/plain": [
       "<matplotlib.image.AxesImage at 0x7fd6322ee4f0>"
      ]
     },
     "execution_count": 11,
     "metadata": {},
     "output_type": "execute_result"
    },
    {
     "data": {
      "image/png": "[encoded data removed]",
      "text/plain": [
       "<Figure size 432x288 with 1 Axes>"
      ]
     },
     "metadata": {
      "needs_background": "light"
     },
     "output_type": "display_data"
    }
   ],
   "source": [
    "plt.imshow(mnist_trainset[0][0][0])"
   ]
  },
  {
   "cell_type": "code",
   "execution_count": 12,
   "metadata": {},
   "outputs": [],
   "source": [
    "train_loader = DataLoader(\n",
    "    mnist_trainset,\n",
    "    num_workers=2,\n",
    "    batch_size=batch_size,\n",
    "    shuffle=True\n",
    ")\n",
    "\n",
    "val_loader = DataLoader(\n",
    "    mnist_valset,\n",
    "    num_workers=2,\n",
    "    batch_size=len(mnist_valset),\n",
    "    shuffle=True\n",
    ")\n",
    "\n",
    "test_loader = DataLoader(\n",
    "    mnist_testset,\n",
    "    num_workers=2,\n",
    "    batch_size=len(mnist_testset),\n",
    "    shuffle=True\n",
    ")"
   ]
  },
  {
   "cell_type": "code",
   "execution_count": 13,
   "metadata": {},
   "outputs": [],
   "source": [
    "batch_idx, (example_data, example_targets) = next(enumerate(train_loader))"
   ]
  },
  {
   "cell_type": "code",
   "execution_count": 14,
   "metadata": {},
   "outputs": [
    {
     "data": {
      "text/plain": [
       "torch.Size([14745, 1, 28, 28])"
      ]
     },
     "execution_count": 14,
     "metadata": {},
     "output_type": "execute_result"
    }
   ],
   "source": [
    "example_data.shape"
   ]
  },
  {
   "cell_type": "markdown",
   "metadata": {},
   "source": [
    "## define the neural net"
   ]
  },
  {
   "cell_type": "markdown",
   "metadata": {},
   "source": [
    "### Model 1"
   ]
  },
  {
   "cell_type": "code",
   "execution_count": 100,
   "metadata": {},
   "outputs": [],
   "source": [
    "class Model1(nn.Module):\n",
    "    def __init__(self,midel_layer):\n",
    "        super().__init__()\n",
    "        self.linear1 = nn.Linear(28*28,50) \n",
    "        nn.init.xavier_uniform_(self.linear1.weight)\n",
    "        \n",
    "        self.linear2 = nn.Linear(50,midel_layer)\n",
    "        nn.init.xavier_uniform_(self.linear2.weight)\n",
    "        \n",
    "        self.linear3 = nn.Linear(midel_layer,28*28)\n",
    "        nn.init.xavier_uniform_(self.linear3.weight)\n",
    "\n",
    "    def forward(self, x):\n",
    "        original_shape = x.shape\n",
    "        x = x.view(-1,28*28)\n",
    "        x = F.relu(self.linear1(x))\n",
    "        x = F.relu(self.linear2(x))\n",
    "        x = F.relu(self.linear3(x))\n",
    "    \n",
    "        x = x.view(original_shape)\n",
    "        \n",
    "        return x"
   ]
  },
  {
   "cell_type": "code",
   "execution_count": 77,
   "metadata": {
    "scrolled": true
   },
   "outputs": [
    {
     "data": {
      "text/plain": [
       "(Model1(\n",
       "   (linear1): Linear(in_features=784, out_features=50, bias=True)\n",
       "   (linear2): Linear(in_features=50, out_features=4, bias=True)\n",
       "   (linear3): Linear(in_features=4, out_features=784, bias=True)\n",
       " ),\n",
       " Model1(\n",
       "   (linear1): Linear(in_features=784, out_features=50, bias=True)\n",
       "   (linear2): Linear(in_features=50, out_features=2, bias=True)\n",
       "   (linear3): Linear(in_features=2, out_features=784, bias=True)\n",
       " ))"
      ]
     },
     "execution_count": 77,
     "metadata": {},
     "output_type": "execute_result"
    }
   ],
   "source": [
    "model1 = Model1(2)\n",
    "model2 = Model1(4)\n",
    "model2.to(device),model1.to(device)"
   ]
  },
  {
   "cell_type": "code",
   "execution_count": 78,
   "metadata": {},
   "outputs": [],
   "source": [
    "optimizer1 = optim.Adam(model1.parameters(), lr=1e-4)\n",
    "optimizer2 = optim.Adam(model2.parameters(), lr=1e-4)\n",
    "\n",
    "loss_func = nn.MSELoss()"
   ]
  },
  {
   "cell_type": "code",
   "execution_count": 79,
   "metadata": {},
   "outputs": [],
   "source": [
    "losses_train1 = []\n",
    "losses_val1 = []\n",
    "losses_train2 = []\n",
    "losses_val2 = []"
   ]
  },
  {
   "cell_type": "code",
   "execution_count": 80,
   "metadata": {
    "scrolled": true
   },
   "outputs": [],
   "source": [
    "epochs = 800\n",
    "val_frequency = 10"
   ]
  },
  {
   "cell_type": "code",
   "execution_count": 81,
   "metadata": {
    "scrolled": true
   },
   "outputs": [
    {
     "name": "stdout",
     "output_type": "stream",
     "text": [
      "Epoch 0, loss_val1 0.15252292156219482, loss_val1 0.12237241864204407\n",
      "Epoch 10, loss_val1 0.15070876479148865, loss_val1 0.12089990824460983\n",
      "Epoch 20, loss_val1 0.14744429290294647, loss_val1 0.11850091814994812\n",
      "Epoch 30, loss_val1 0.14310681819915771, loss_val1 0.11315318942070007\n",
      "Epoch 40, loss_val1 0.13485388457775116, loss_val1 0.10478381812572479\n",
      "Epoch 50, loss_val1 0.12413661926984787, loss_val1 0.09661591053009033\n",
      "Epoch 60, loss_val1 0.1140591949224472, loss_val1 0.09045272320508957\n",
      "Epoch 70, loss_val1 0.10605023801326752, loss_val1 0.08603409677743912\n",
      "Epoch 80, loss_val1 0.09973322600126266, loss_val1 0.08294349163770676\n",
      "Epoch 90, loss_val1 0.09509333968162537, loss_val1 0.08109890669584274\n",
      "Epoch 100, loss_val1 0.09154972434043884, loss_val1 0.07991166412830353\n",
      "Epoch 110, loss_val1 0.08865758776664734, loss_val1 0.07913761585950851\n",
      "Epoch 120, loss_val1 0.0863180011510849, loss_val1 0.07834897935390472\n",
      "Epoch 130, loss_val1 0.08445511758327484, loss_val1 0.07786983996629715\n",
      "Epoch 140, loss_val1 0.08290122449398041, loss_val1 0.0774608701467514\n",
      "Epoch 150, loss_val1 0.08158967643976212, loss_val1 0.07704128324985504\n",
      "Epoch 160, loss_val1 0.08053487539291382, loss_val1 0.0766291543841362\n",
      "Epoch 170, loss_val1 0.07967910170555115, loss_val1 0.07622034102678299\n",
      "Epoch 180, loss_val1 0.07902847230434418, loss_val1 0.07561378926038742\n",
      "Epoch 190, loss_val1 0.07860612124204636, loss_val1 0.07513746619224548\n",
      "Epoch 200, loss_val1 0.07826406508684158, loss_val1 0.07457775622606277\n",
      "Epoch 210, loss_val1 0.07791528105735779, loss_val1 0.07410449534654617\n",
      "Epoch 220, loss_val1 0.07735816389322281, loss_val1 0.07349145412445068\n",
      "Epoch 230, loss_val1 0.0769665464758873, loss_val1 0.07268530130386353\n",
      "Epoch 240, loss_val1 0.07663316279649734, loss_val1 0.07210588455200195\n",
      "Epoch 250, loss_val1 0.07624462246894836, loss_val1 0.07164010405540466\n",
      "Epoch 260, loss_val1 0.07592611759901047, loss_val1 0.07110349088907242\n",
      "Epoch 270, loss_val1 0.07568877935409546, loss_val1 0.07070042937994003\n",
      "Epoch 280, loss_val1 0.07527294754981995, loss_val1 0.07035470008850098\n",
      "Epoch 290, loss_val1 0.07455579191446304, loss_val1 0.07003217190504074\n",
      "Epoch 300, loss_val1 0.07420468330383301, loss_val1 0.06970147043466568\n",
      "Epoch 310, loss_val1 0.07399597764015198, loss_val1 0.06932724267244339\n",
      "Epoch 320, loss_val1 0.0736546739935875, loss_val1 0.0687476396560669\n",
      "Epoch 330, loss_val1 0.07337138056755066, loss_val1 0.0682809054851532\n",
      "Epoch 340, loss_val1 0.07313789427280426, loss_val1 0.06805175542831421\n",
      "Epoch 350, loss_val1 0.07297393679618835, loss_val1 0.06785425543785095\n",
      "Epoch 360, loss_val1 0.07282042503356934, loss_val1 0.06767276674509048\n",
      "Epoch 370, loss_val1 0.07267355173826218, loss_val1 0.06747715920209885\n",
      "Epoch 380, loss_val1 0.07252252846956253, loss_val1 0.06729176640510559\n",
      "Epoch 390, loss_val1 0.07238243520259857, loss_val1 0.06713637709617615\n",
      "Epoch 400, loss_val1 0.07225814461708069, loss_val1 0.06699138134717941\n",
      "Epoch 410, loss_val1 0.07209040969610214, loss_val1 0.06685804575681686\n",
      "Epoch 420, loss_val1 0.07197073847055435, loss_val1 0.06673584133386612\n",
      "Epoch 430, loss_val1 0.07186298072338104, loss_val1 0.0664539560675621\n",
      "Epoch 440, loss_val1 0.0717620700597763, loss_val1 0.06589516252279282\n",
      "Epoch 450, loss_val1 0.07166595011949539, loss_val1 0.06578659266233444\n",
      "Epoch 460, loss_val1 0.07157492637634277, loss_val1 0.06562849134206772\n",
      "Epoch 470, loss_val1 0.07148853689432144, loss_val1 0.06514770537614822\n",
      "Epoch 480, loss_val1 0.07140962779521942, loss_val1 0.06469546258449554\n",
      "Epoch 490, loss_val1 0.07133803516626358, loss_val1 0.0645393431186676\n",
      "Epoch 500, loss_val1 0.07127268612384796, loss_val1 0.06444583833217621\n",
      "Epoch 510, loss_val1 0.07121102511882782, loss_val1 0.06434115022420883\n",
      "Epoch 520, loss_val1 0.07115441560745239, loss_val1 0.06400289386510849\n",
      "Epoch 530, loss_val1 0.07110106945037842, loss_val1 0.06382819265127182\n",
      "Epoch 540, loss_val1 0.07105132192373276, loss_val1 0.06375005096197128\n",
      "Epoch 550, loss_val1 0.07098203897476196, loss_val1 0.06367935240268707\n",
      "Epoch 560, loss_val1 0.07077232748270035, loss_val1 0.06361576169729233\n",
      "Epoch 570, loss_val1 0.07057465612888336, loss_val1 0.06355905532836914\n",
      "Epoch 580, loss_val1 0.07051403075456619, loss_val1 0.06350751966238022\n",
      "Epoch 590, loss_val1 0.0704607367515564, loss_val1 0.06345949321985245\n",
      "Epoch 600, loss_val1 0.07041528075933456, loss_val1 0.06341508030891418\n",
      "Epoch 610, loss_val1 0.07037532329559326, loss_val1 0.06337365508079529\n",
      "Epoch 620, loss_val1 0.07033892720937729, loss_val1 0.06333331763744354\n",
      "Epoch 630, loss_val1 0.07030454277992249, loss_val1 0.06329508125782013\n",
      "Epoch 640, loss_val1 0.07027135044336319, loss_val1 0.06325890123844147\n",
      "Epoch 650, loss_val1 0.07023455202579498, loss_val1 0.06322365254163742\n",
      "Epoch 660, loss_val1 0.06989435851573944, loss_val1 0.06300047785043716\n",
      "Epoch 670, loss_val1 0.06983368843793869, loss_val1 0.06285488605499268\n",
      "Epoch 680, loss_val1 0.0697999969124794, loss_val1 0.06282063573598862\n",
      "Epoch 690, loss_val1 0.06976717710494995, loss_val1 0.06278910487890244\n",
      "Epoch 700, loss_val1 0.06973592191934586, loss_val1 0.06275851279497147\n",
      "Epoch 710, loss_val1 0.06970608979463577, loss_val1 0.06266948580741882\n",
      "Epoch 720, loss_val1 0.06967765837907791, loss_val1 0.061903178691864014\n",
      "Epoch 730, loss_val1 0.06964977830648422, loss_val1 0.06053773686289787\n",
      "Epoch 740, loss_val1 0.06962265074253082, loss_val1 0.0598519891500473\n",
      "Epoch 750, loss_val1 0.06959576159715652, loss_val1 0.05940619856119156\n",
      "Epoch 760, loss_val1 0.06956933438777924, loss_val1 0.059031568467617035\n",
      "Epoch 770, loss_val1 0.0695427730679512, loss_val1 0.05866983160376549\n",
      "Epoch 780, loss_val1 0.06951826065778732, loss_val1 0.05845416709780693\n",
      "Epoch 790, loss_val1 0.0694936066865921, loss_val1 0.05831276997923851\n",
      "Epoch 799, loss_val1 0.06947179138660431, loss_val1 0.05821901559829712\n",
      "CPU times: user 2min 44s, sys: 52.4 s, total: 3min 36s\n",
      "Wall time: 45min 8s\n"
     ]
    }
   ],
   "source": [
    "%%time\n",
    "model1.to(device)\n",
    "model2.to(device)\n",
    "for epoch in range(epochs):\n",
    "    for batch_idx, (data, _) in enumerate(train_loader):\n",
    "        \n",
    "        optimizer1.zero_grad()\n",
    "        optimizer2.zero_grad()\n",
    "        data = data.to(device)\n",
    "        output1 = model1(data)\n",
    "        output2 = model2(data)\n",
    "\n",
    "        loss1 = loss_func(output1, data)\n",
    "        loss2 = loss_func(output2, data)\n",
    "\n",
    "        loss1.backward()\n",
    "        optimizer1.step()\n",
    "        \n",
    "        loss2.backward()\n",
    "        optimizer2.step()\n",
    "\n",
    "\n",
    "\n",
    "    if (epoch == 0 or epoch%val_frequency == 0 or epoch == epochs-1):\n",
    "\n",
    "        with torch.no_grad():\n",
    "            _,(val_data, _) = next(enumerate(val_loader))\n",
    "            val_data = val_data.to(device)\n",
    "            output_val1 = model1(val_data)\n",
    "            loss_val1 = loss_func(output_val1, val_data)\n",
    "            output_val2 = model2(val_data)\n",
    "            loss_val2 = loss_func(output_val2, val_data)\n",
    "            \n",
    "            \n",
    "            \n",
    "            \n",
    "        losses_train1.append(loss1.item())\n",
    "        losses_val1.append(loss_val1.item())\n",
    "        losses_train2.append(loss2.item())\n",
    "        losses_val2.append(loss_val2.item())\n",
    "        print(f\"Epoch {epoch}, loss_val1 {loss_val1.item()}, loss_val1 {loss_val2.item()}\")\n"
   ]
  },
  {
   "cell_type": "code",
   "execution_count": 82,
   "metadata": {},
   "outputs": [
    {
     "name": "stdout",
     "output_type": "stream",
     "text": [
      "Total epoch : 90\n"
     ]
    },
    {
     "data": {
      "image/png": "[encoded data removed]",
      "text/plain": [
       "<Figure size 432x288 with 1 Axes>"
      ]
     },
     "metadata": {
      "needs_background": "light"
     },
     "output_type": "display_data"
    }
   ],
   "source": [
    "plt.plot(losses_train1,color=\"blue\",label=\"train\")\n",
    "plt.plot(losses_val1,color=\"orange\",label=\"val\")  \n",
    "plt.plot(losses_train2,color=\"cyan\",label=\"train\")\n",
    "plt.plot(losses_val2,color=\"red\",label=\"val\")  \n",
    "plt.title(\"Error evolution throw training\")\n",
    "plt.ylabel(\"Loss function\")\n",
    "plt.xlabel(f\"{val_frequency}-Epochs\")\n",
    "plt.legend(loc=\"upper right\")\n",
    "\n",
    "print(f\"Total epoch : {(len(losses_train)-1)*val_frequency}\")"
   ]
  },
  {
   "cell_type": "code",
   "execution_count": 83,
   "metadata": {},
   "outputs": [],
   "source": [
    "torch.save({\n",
    "            'epoch': epoch,\n",
    "            'model_state_dict': model1.state_dict(),\n",
    "            'losses_train': losses_train1,\n",
    "            'losses_val': losses_val1\n",
    "            }, \"model/model1_autoencoder.m\")\n",
    "torch.save({\n",
    "            'epoch': epoch,\n",
    "            'model_state_dict': model2.state_dict(),\n",
    "            'losses_train': losses_train2,\n",
    "            'losses_val': losses_val2\n",
    "            }, \"model/model2_autoencoder.m\")"
   ]
  },
  {
   "cell_type": "markdown",
   "metadata": {},
   "source": [
    "## Encoder"
   ]
  },
  {
   "cell_type": "code",
   "execution_count": 26,
   "metadata": {},
   "outputs": [],
   "source": [
    "model1 = Model1(2)\n",
    "model2 = Model1(4)\n",
    "\n",
    "checkpoint = torch.load(\"model/model1_autoencoder.m\")\n",
    "model1..(checkpoint['model_state_dict'])\n",
    "epochs1 = checkpoint['epoch']\n",
    "losses_train1 = checkpoint['losses_train']\n",
    "losses_val1 = checkpoint['losses_val']\n",
    "\n",
    "checkpoint = torch.load(\"model/model2_autoencoder.m\")\n",
    "model2.load_state_dict(checkpoint['model_state_dict'])\n",
    "epochs2 = checkpoint['epoch']\n",
    "losses_train2 = checkpoint['losses_train']\n",
    "losses_val2 = checkpoint['losses_val']"
   ]
  },
  {
   "cell_type": "code",
   "execution_count": 50,
   "metadata": {},
   "outputs": [],
   "source": [
    "class Encoder(nn.Module):\n",
    "    \n",
    "    def __init__(self,model):\n",
    "        super().__init__()\n",
    "        self.linear1 = model.linear1\n",
    "        self.linear2 = model.linear2\n",
    "    \n",
    "    def forward(self,x):\n",
    "        original_shape = x.shape\n",
    "        x = x.view(-1,28*28)\n",
    "        x = F.relu(self.linear1(x))\n",
    "        x = F.relu(self.linear2(x))\n",
    "        return x"
   ]
  },
  {
   "cell_type": "code",
   "execution_count": 51,
   "metadata": {},
   "outputs": [],
   "source": [
    "encoder1 = Encoder(model1)"
   ]
  },
  {
   "cell_type": "code",
   "execution_count": 52,
   "metadata": {},
   "outputs": [
    {
     "data": {
      "text/plain": [
       "tensor(True)"
      ]
     },
     "execution_count": 52,
     "metadata": {},
     "output_type": "execute_result"
    }
   ],
   "source": [
    "(list(encoder1.parameters())[0] == list(model1.parameters())[0]).all()"
   ]
  },
  {
   "cell_type": "code",
   "execution_count": 167,
   "metadata": {},
   "outputs": [],
   "source": [
    "class RecoModel(nn.Module):\n",
    "    def __init__(self):\n",
    "        super().__init__()\n",
    "        self.conv1 = nn.Conv2d(1, 20, kernel_size=5, stride=1, padding=1)\n",
    "        self.pool1 = nn.MaxPool2d(kernel_size=2, stride=2,padding=0)\n",
    "        self.linear1 = nn.Linear(13*13*20,100) \n",
    "        self.linear2 = nn.Linear(100,10)\n",
    "\n",
    "    def forward(self, x):\n",
    "        x = self.conv1(x)\n",
    "        x = F.relu(x)\n",
    "        x = self.pool1(x)\n",
    "        x = self.linear1(x.view(-1,13*13*20))\n",
    "        x = self.linear2(x)\n",
    "        return F.log_softmax(x,dim=1).max(dim=1)[1]"
   ]
  },
  {
   "cell_type": "code",
   "execution_count": 168,
   "metadata": {},
   "outputs": [
    {
     "data": {
      "text/plain": [
       "<All keys matched successfully>"
      ]
     },
     "execution_count": 168,
     "metadata": {},
     "output_type": "execute_result"
    }
   ],
   "source": [
    "reco = RecoModel()\n",
    "checkpoint = torch.load(\"model/model2.m\")\n",
    "reco.load_state_dict(checkpoint[\"model_state_dict\"])\n"
   ]
  },
  {
   "cell_type": "code",
   "execution_count": 169,
   "metadata": {},
   "outputs": [],
   "source": [
    "_, (test_data, test_target) = next(enumerate(test_loader))"
   ]
  },
  {
   "cell_type": "code",
   "execution_count": 182,
   "metadata": {},
   "outputs": [],
   "source": [
    "def show(data,model,reco,reco_bool=True):\n",
    "    output =  model(data)\n",
    "    reco_value =  reco(output)\n",
    "    output = output.detach().numpy()\n",
    "    fig, axes = plt.subplots(max(len(data),2), 2, sharex=True, sharey=True,figsize=(15,15))\n",
    "\n",
    "    for i in range(len(data)):\n",
    "        axes[i,0].imshow(data[i][0],cmap =\"gray\") \n",
    "        axes[i,1].imshow(output[i][0],cmap =\"gray\") \n",
    "        axes[i,1].set_title(f\"digit reco: {reco_value[i]}\")\n",
    "        "
   ]
  },
  {
   "cell_type": "code",
   "execution_count": 186,
   "metadata": {
    "scrolled": true
   },
   "outputs": [
    {
     "data": {
      "image/png": "[encoded data removed]",
      "text/plain": [
       "<Figure size 1080x1080 with 10 Axes>"
      ]
     },
     "metadata": {
      "needs_background": "light"
     },
     "output_type": "display_data"
    }
   ],
   "source": [
    "show(test_data[0:5],model1,reco)"
   ]
  },
  {
   "cell_type": "code",
   "execution_count": 202,
   "metadata": {},
   "outputs": [
    {
     "data": {
      "text/plain": [
       "0.2795"
      ]
     },
     "execution_count": 202,
     "metadata": {},
     "output_type": "execute_result"
    }
   ],
   "source": [
    "output_test = model1(test_data)\n",
    "reco_test = reco(output_test)\n",
    "well_encoded_data = torch.where(reco_test==test_target)[0]\n",
    "len(well_encoded_data)/len(test_data)"
   ]
  },
  {
   "cell_type": "code",
   "execution_count": null,
   "metadata": {},
   "outputs": [],
   "source": [
    "show(data)"
   ]
  }
 ],
 "metadata": {
  "kernelspec": {
   "display_name": "Python 3",
   "language": "python",
   "name": "python3"
  },
  "language_info": {
   "codemirror_mode": {
    "name": "ipython",
    "version": 3
   },
   "file_extension": ".py",
   "mimetype": "text/x-python",
   "name": "python",
   "nbconvert_exporter": "python",
   "pygments_lexer": "ipython3",
   "version": "3.8.5"
  }
 },
 "nbformat": 4,
 "nbformat_minor": 4
}
